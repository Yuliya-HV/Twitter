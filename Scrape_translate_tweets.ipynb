{
  "cells": [
    {
      "cell_type": "markdown",
      "metadata": {
        "id": "ePM8CxtKxAA-"
      },
      "source": [
        "# Create own dataset from Twitter"
      ]
    },
    {
      "cell_type": "markdown",
      "source": [
        "AGENDA:\n",
        "1. Get auth keys for Twitter API\n",
        "2. Scrape specific account\n",
        "3. Scrape by keywords\n",
        "4. Translate from any language to English using GoogleTranslate API\n",
        "5. Detailed look at the twitter data\n",
        "6. Store scraped data in csv on GoogleDrive"
      ],
      "metadata": {
        "id": "irxyYnrhxkE2"
      }
    },
    {
      "cell_type": "code",
      "execution_count": null,
      "metadata": {
        "id": "8Fy_AM7FxABH"
      },
      "outputs": [],
      "source": [
        "!pip install googletrans==4.0.0-rc1"
      ]
    },
    {
      "cell_type": "code",
      "execution_count": 2,
      "metadata": {
        "id": "wnAZdAFmxABM"
      },
      "outputs": [],
      "source": [
        "from googletrans import Translator\n",
        "\n",
        "import pandas as pd\n",
        "import time\n",
        "import traceback\n",
        "import tweepy"
      ]
    },
    {
      "cell_type": "markdown",
      "metadata": {
        "id": "h2OAR7f8xABN"
      },
      "source": [
        "# 1. Authentification"
      ]
    },
    {
      "cell_type": "markdown",
      "metadata": {
        "id": "EZE7uxarxABP"
      },
      "source": [
        "First, you need to register yourself as a developer to get an access to Twitter API.\n",
        "\n",
        "https://developer.twitter.com/\n",
        "\n",
        "After completing the form you will get consumer/access keys. "
      ]
    },
    {
      "cell_type": "code",
      "execution_count": 14,
      "metadata": {
        "id": "UcB40GYnxABQ"
      },
      "outputs": [],
      "source": [
        "# the values below are fake due to security reason. Substitute yours unique credentials.\n",
        "\n",
        "# consumer_key, consumer_secret\n",
        "api_key = \"EI9CxYyCdFmRA8F0ajiqhCmqM\"\n",
        "api_secret = \"YGU1PX6qHk7Ip8bGq8Wd0HIJzjLBaZ6KyDT4oeLlaZhOMWISJh\"\n",
        "access_token = \"1253047286290153472-qcEgVxJI7yaLp80Aj0JS3jAgcwHfeL\"\n",
        "access_secret = \"cE8cb2hjDc28aVA7UAWCKeSNisEKVcA9u2YP2ME8zsqwg\"\n",
        "\n",
        "auth = tweepy.OAuthHandler(api_key, api_secret)\n",
        "auth.set_access_token(access_token, access_secret)\n",
        "api = tweepy.API(auth, wait_on_rate_limit=True)"
      ]
    },
    {
      "cell_type": "code",
      "source": [
        ""
      ],
      "metadata": {
        "id": "xhb07SG1fqBC"
      },
      "execution_count": 14,
      "outputs": []
    },
    {
      "cell_type": "markdown",
      "metadata": {
        "id": "yVWbqxWKxABR"
      },
      "source": [
        "# 2. Scrape twitter accounts "
      ]
    },
    {
      "cell_type": "markdown",
      "metadata": {
        "id": "6ns7tCyMxABT"
      },
      "source": [
        "The code below let you to scrape tweets from specific tweeter users. \n",
        "\n",
        "I have chosen to scrape 20 most recent tweets from three news media accounts. Scraped data to be saved in csv file."
      ]
    },
    {
      "cell_type": "code",
      "execution_count": null,
      "metadata": {
        "id": "cNXhM2juxABU"
      },
      "outputs": [],
      "source": [
        "tweets, news_media = [], ['cnnbrk', 'ArabNewsjp', 'France24_fr']\n",
        "\n",
        "count = 20\n",
        "\n",
        "        \n",
        "try: \n",
        "    for news in news_media:\n",
        "        print(f\"Scraping: {news}\")\n",
        "        \n",
        "        for tweet in api.user_timeline(id = news, count=count):\n",
        "            status = api.get_status(id = tweet.id, tweet_mode=\"extended\")\n",
        "\n",
        "            try:\n",
        "                tweet_text = status.retweeted_status.full_text\n",
        "            except AttributeError:  # Not a Retweet\n",
        "                tweet_text = status.full_text\n",
        "\n",
        "            tweets.append((news, tweet.created_at, tweet.id, tweet_text))\n",
        "            print(tweet_text)\n",
        "        time.sleep(15)    \n",
        "    df = pd.DataFrame(tweets, columns = ['news_media', 'created_at', 'tweet_id', 'text'])\n",
        "    print(\"Completed.\")\n",
        "    \n",
        "except BaseException as e:\n",
        "    traceback.print_exc()"
      ]
    },
    {
      "cell_type": "code",
      "source": [
        "df['tweet_length'] = df[\"text\"].apply(lambda x: len(x))"
      ],
      "metadata": {
        "id": "KW1SkdLnnMrt"
      },
      "execution_count": 31,
      "outputs": []
    },
    {
      "cell_type": "code",
      "execution_count": 33,
      "metadata": {
        "colab": {
          "base_uri": "https://localhost:8080/",
          "height": 269
        },
        "id": "oAMRN--TxABX",
        "outputId": "3288cbc7-c2ed-4642-c059-3f06de524728"
      },
      "outputs": [
        {
          "output_type": "execute_result",
          "data": {
            "text/plain": [
              "  news_media          created_at             tweet_id  \\\n",
              "0     cnnbrk 2022-06-22 16:55:00  1539653191805140992   \n",
              "1     cnnbrk 2022-06-22 10:26:11  1539555341574328325   \n",
              "2     cnnbrk 2022-06-22 06:12:14  1539491432607653888   \n",
              "3     cnnbrk 2022-06-21 23:12:42  1539385852526268416   \n",
              "4     cnnbrk 2022-06-21 23:07:26  1539384529781198854   \n",
              "5     cnnbrk 2022-06-21 23:03:54  1539383639431061507   \n",
              "6     cnnbrk 2022-06-21 14:38:55  1539256557439000580   \n",
              "\n",
              "                                                text  tweet_length  \n",
              "0  John Wood, a top investigator for the January ...           169  \n",
              "1  Afghanistan earthquake death toll jumps to mor...           124  \n",
              "2  At least 250 people are feared dead after a ma...           142  \n",
              "3  Three people were hospitalized with minor inju...           221  \n",
              "4  A Los Angeles jury has found embattled comedia...           200  \n",
              "5  Alabama, Georgia, Virginia and Washington, DC,...           182  \n",
              "6  The Supreme Court says Maine cannot exclude re...           173  "
            ],
            "text/html": [
              "\n",
              "  <div id=\"df-6e383c4e-3f18-4a5c-b3bc-66b0f7746e72\">\n",
              "    <div class=\"colab-df-container\">\n",
              "      <div>\n",
              "<style scoped>\n",
              "    .dataframe tbody tr th:only-of-type {\n",
              "        vertical-align: middle;\n",
              "    }\n",
              "\n",
              "    .dataframe tbody tr th {\n",
              "        vertical-align: top;\n",
              "    }\n",
              "\n",
              "    .dataframe thead th {\n",
              "        text-align: right;\n",
              "    }\n",
              "</style>\n",
              "<table border=\"1\" class=\"dataframe\">\n",
              "  <thead>\n",
              "    <tr style=\"text-align: right;\">\n",
              "      <th></th>\n",
              "      <th>news_media</th>\n",
              "      <th>created_at</th>\n",
              "      <th>tweet_id</th>\n",
              "      <th>text</th>\n",
              "      <th>tweet_length</th>\n",
              "    </tr>\n",
              "  </thead>\n",
              "  <tbody>\n",
              "    <tr>\n",
              "      <th>0</th>\n",
              "      <td>cnnbrk</td>\n",
              "      <td>2022-06-22 16:55:00</td>\n",
              "      <td>1539653191805140992</td>\n",
              "      <td>John Wood, a top investigator for the January ...</td>\n",
              "      <td>169</td>\n",
              "    </tr>\n",
              "    <tr>\n",
              "      <th>1</th>\n",
              "      <td>cnnbrk</td>\n",
              "      <td>2022-06-22 10:26:11</td>\n",
              "      <td>1539555341574328325</td>\n",
              "      <td>Afghanistan earthquake death toll jumps to mor...</td>\n",
              "      <td>124</td>\n",
              "    </tr>\n",
              "    <tr>\n",
              "      <th>2</th>\n",
              "      <td>cnnbrk</td>\n",
              "      <td>2022-06-22 06:12:14</td>\n",
              "      <td>1539491432607653888</td>\n",
              "      <td>At least 250 people are feared dead after a ma...</td>\n",
              "      <td>142</td>\n",
              "    </tr>\n",
              "    <tr>\n",
              "      <th>3</th>\n",
              "      <td>cnnbrk</td>\n",
              "      <td>2022-06-21 23:12:42</td>\n",
              "      <td>1539385852526268416</td>\n",
              "      <td>Three people were hospitalized with minor inju...</td>\n",
              "      <td>221</td>\n",
              "    </tr>\n",
              "    <tr>\n",
              "      <th>4</th>\n",
              "      <td>cnnbrk</td>\n",
              "      <td>2022-06-21 23:07:26</td>\n",
              "      <td>1539384529781198854</td>\n",
              "      <td>A Los Angeles jury has found embattled comedia...</td>\n",
              "      <td>200</td>\n",
              "    </tr>\n",
              "    <tr>\n",
              "      <th>5</th>\n",
              "      <td>cnnbrk</td>\n",
              "      <td>2022-06-21 23:03:54</td>\n",
              "      <td>1539383639431061507</td>\n",
              "      <td>Alabama, Georgia, Virginia and Washington, DC,...</td>\n",
              "      <td>182</td>\n",
              "    </tr>\n",
              "    <tr>\n",
              "      <th>6</th>\n",
              "      <td>cnnbrk</td>\n",
              "      <td>2022-06-21 14:38:55</td>\n",
              "      <td>1539256557439000580</td>\n",
              "      <td>The Supreme Court says Maine cannot exclude re...</td>\n",
              "      <td>173</td>\n",
              "    </tr>\n",
              "  </tbody>\n",
              "</table>\n",
              "</div>\n",
              "      <button class=\"colab-df-convert\" onclick=\"convertToInteractive('df-6e383c4e-3f18-4a5c-b3bc-66b0f7746e72')\"\n",
              "              title=\"Convert this dataframe to an interactive table.\"\n",
              "              style=\"display:none;\">\n",
              "        \n",
              "  <svg xmlns=\"http://www.w3.org/2000/svg\" height=\"24px\"viewBox=\"0 0 24 24\"\n",
              "       width=\"24px\">\n",
              "    <path d=\"M0 0h24v24H0V0z\" fill=\"none\"/>\n",
              "    <path d=\"M18.56 5.44l.94 2.06.94-2.06 2.06-.94-2.06-.94-.94-2.06-.94 2.06-2.06.94zm-11 1L8.5 8.5l.94-2.06 2.06-.94-2.06-.94L8.5 2.5l-.94 2.06-2.06.94zm10 10l.94 2.06.94-2.06 2.06-.94-2.06-.94-.94-2.06-.94 2.06-2.06.94z\"/><path d=\"M17.41 7.96l-1.37-1.37c-.4-.4-.92-.59-1.43-.59-.52 0-1.04.2-1.43.59L10.3 9.45l-7.72 7.72c-.78.78-.78 2.05 0 2.83L4 21.41c.39.39.9.59 1.41.59.51 0 1.02-.2 1.41-.59l7.78-7.78 2.81-2.81c.8-.78.8-2.07 0-2.86zM5.41 20L4 18.59l7.72-7.72 1.47 1.35L5.41 20z\"/>\n",
              "  </svg>\n",
              "      </button>\n",
              "      \n",
              "  <style>\n",
              "    .colab-df-container {\n",
              "      display:flex;\n",
              "      flex-wrap:wrap;\n",
              "      gap: 12px;\n",
              "    }\n",
              "\n",
              "    .colab-df-convert {\n",
              "      background-color: #E8F0FE;\n",
              "      border: none;\n",
              "      border-radius: 50%;\n",
              "      cursor: pointer;\n",
              "      display: none;\n",
              "      fill: #1967D2;\n",
              "      height: 32px;\n",
              "      padding: 0 0 0 0;\n",
              "      width: 32px;\n",
              "    }\n",
              "\n",
              "    .colab-df-convert:hover {\n",
              "      background-color: #E2EBFA;\n",
              "      box-shadow: 0px 1px 2px rgba(60, 64, 67, 0.3), 0px 1px 3px 1px rgba(60, 64, 67, 0.15);\n",
              "      fill: #174EA6;\n",
              "    }\n",
              "\n",
              "    [theme=dark] .colab-df-convert {\n",
              "      background-color: #3B4455;\n",
              "      fill: #D2E3FC;\n",
              "    }\n",
              "\n",
              "    [theme=dark] .colab-df-convert:hover {\n",
              "      background-color: #434B5C;\n",
              "      box-shadow: 0px 1px 3px 1px rgba(0, 0, 0, 0.15);\n",
              "      filter: drop-shadow(0px 1px 2px rgba(0, 0, 0, 0.3));\n",
              "      fill: #FFFFFF;\n",
              "    }\n",
              "  </style>\n",
              "\n",
              "      <script>\n",
              "        const buttonEl =\n",
              "          document.querySelector('#df-6e383c4e-3f18-4a5c-b3bc-66b0f7746e72 button.colab-df-convert');\n",
              "        buttonEl.style.display =\n",
              "          google.colab.kernel.accessAllowed ? 'block' : 'none';\n",
              "\n",
              "        async function convertToInteractive(key) {\n",
              "          const element = document.querySelector('#df-6e383c4e-3f18-4a5c-b3bc-66b0f7746e72');\n",
              "          const dataTable =\n",
              "            await google.colab.kernel.invokeFunction('convertToInteractive',\n",
              "                                                     [key], {});\n",
              "          if (!dataTable) return;\n",
              "\n",
              "          const docLinkHtml = 'Like what you see? Visit the ' +\n",
              "            '<a target=\"_blank\" href=https://colab.research.google.com/notebooks/data_table.ipynb>data table notebook</a>'\n",
              "            + ' to learn more about interactive tables.';\n",
              "          element.innerHTML = '';\n",
              "          dataTable['output_type'] = 'display_data';\n",
              "          await google.colab.output.renderOutput(dataTable, element);\n",
              "          const docLink = document.createElement('div');\n",
              "          docLink.innerHTML = docLinkHtml;\n",
              "          element.appendChild(docLink);\n",
              "        }\n",
              "      </script>\n",
              "    </div>\n",
              "  </div>\n",
              "  "
            ]
          },
          "metadata": {},
          "execution_count": 33
        }
      ],
      "source": [
        "df.head(7)"
      ]
    },
    {
      "cell_type": "markdown",
      "source": [
        "# 3/4. Scrape tweets by query. Translate in English"
      ],
      "metadata": {
        "id": "I5GKFdfVyS1O"
      }
    },
    {
      "cell_type": "markdown",
      "metadata": {
        "id": "SqAbk7sKxABY"
      },
      "source": [
        "The code below lets you to scrape tweets by keywords. You get the most recent tweets by the keywords from Twitter stream. Additionally, if the tweet was not in English, I would like to translate them into English. Save all data in csv.\n",
        "\n",
        "Therefore, I extract for every tweet: \n",
        "\n",
        "* time it was created_at\n",
        "* tweet_id \n",
        "* tweet text \n",
        "* username (unique tweeter username) \n",
        "* name (name written by user)\n",
        "* location (where the user is from)\n",
        "* followers_count (number of user's followers)\n",
        "* original language"
      ]
    },
    {
      "cell_type": "code",
      "execution_count": null,
      "metadata": {
        "scrolled": true,
        "id": "8VLJ1PqtxABa"
      },
      "outputs": [],
      "source": [
        "tweets, text_query = [], 'coronavirus OR virus OR covid-19 OR covid19 OR Κορονοϊός'\n",
        "count = 10\n",
        "\n",
        "try:\n",
        "    for tweet in api.search(q=text_query, count=count, result_type='recent',\n",
        "                           include_entities=True,\n",
        "                           monitor_rate_limit=True, \n",
        "                           wait_on_rate_limit=True):\n",
        "        # print(f\"Raw tweet: {tweet}\")\n",
        "        tweet_text_full, tweet_text_translated = \"\", \"\"\n",
        "\n",
        "        status = api.get_status(id = tweet.id, tweet_mode=\"extended\")\n",
        "        try:\n",
        "            tweet_text_full = status.retweeted_status.full_text\n",
        "        except AttributeError:  # Not a Retweet\n",
        "            tweet_text_full = status.full_text\n",
        "            \n",
        "        try:\n",
        "            tr = Translator()\n",
        "            \n",
        "            if tweet.lang and tweet.lang not in ['en', 'und']:\n",
        "\n",
        "\n",
        "                print(f\"Raw tweet: {tweet_text_full}\")\n",
        "                    \n",
        "                if tweet.text:\n",
        "                    translated = tr.translate(tweet_text_full)\n",
        "                    if translated:\n",
        "                        tweet_text = translated.__dict__()[\"text\"]\n",
        "            else:\n",
        "                tweet_text_translated = tweet_text_full\n",
        "                \n",
        "        except Exception as e:\n",
        "            traceback.print_exc()\n",
        "            pass\n",
        "        \n",
        "        tweets.append((tweet.created_at, tweet.id, tweet_text_full, tweet_text_translated, tweet.user.screen_name, tweet.user.name, \n",
        "                               tweet.user.location, tweet.user.followers_count, tweet.lang))\n",
        "        \n",
        "        df_tr = pd.DataFrame(tweets, columns = ['created_at', 'tweet_id', 'text_raw', 'text_en', 'username', 'name', 'location', 'followers_count', 'lang'])\n",
        "        time.sleep(3)\n",
        "        \n",
        "    print(\"Completed.\")\n",
        "    \n",
        "except BaseException as e:\n",
        "    traceback.print_exc()        "
      ]
    },
    {
      "cell_type": "code",
      "source": [
        "df.head(10)"
      ],
      "metadata": {
        "id": "kDKjT42AIhRM"
      },
      "execution_count": null,
      "outputs": []
    },
    {
      "cell_type": "code",
      "execution_count": null,
      "metadata": {
        "id": "QPXeyao_xABe"
      },
      "outputs": [],
      "source": [
        "df[['text_raw', 'text_en', 'lang']]"
      ]
    },
    {
      "cell_type": "markdown",
      "source": [
        "## 5. Explore api.search response"
      ],
      "metadata": {
        "id": "PVqSgD_bBZad"
      }
    },
    {
      "cell_type": "code",
      "source": [
        "tweet"
      ],
      "metadata": {
        "id": "mVli4si3zBND"
      },
      "execution_count": null,
      "outputs": []
    },
    {
      "cell_type": "markdown",
      "source": [
        "## 6. Save data as csv on drive"
      ],
      "metadata": {
        "id": "n88oHpzsBoV3"
      }
    },
    {
      "cell_type": "code",
      "source": [
        "# save dataset in csv on drive\n",
        "from google.colab import drive\n",
        "drive.mount('/gdrive')"
      ],
      "metadata": {
        "colab": {
          "base_uri": "https://localhost:8080/"
        },
        "id": "p9mVUlH0z0dT",
        "outputId": "e127f00f-ed42-4c8c-a881-568593ef818e"
      },
      "execution_count": 6,
      "outputs": [
        {
          "output_type": "stream",
          "name": "stdout",
          "text": [
            "Mounted at /gdrive\n"
          ]
        }
      ]
    },
    {
      "cell_type": "code",
      "source": [
        "path = \"/gdrive/My Drive/YouTube/data/\"\n",
        "df.to_csv(path + 'tweets_news_full.csv')\n",
        "df_tr.to_csv(path + 'tweets_news_full_translated.csv')"
      ],
      "metadata": {
        "id": "q8DfB0JG8N4v"
      },
      "execution_count": 26,
      "outputs": []
    },
    {
      "cell_type": "code",
      "source": [
        ""
      ],
      "metadata": {
        "id": "YhbvY8AK8Zhm"
      },
      "execution_count": null,
      "outputs": []
    }
  ],
  "metadata": {
    "kernelspec": {
      "display_name": "Python 3",
      "language": "python",
      "name": "python3"
    },
    "language_info": {
      "codemirror_mode": {
        "name": "ipython",
        "version": 3
      },
      "file_extension": ".py",
      "mimetype": "text/x-python",
      "name": "python",
      "nbconvert_exporter": "python",
      "pygments_lexer": "ipython3",
      "version": "3.7.1"
    },
    "colab": {
      "name": "Scrape_translate_tweets.ipynb",
      "provenance": []
    }
  },
  "nbformat": 4,
  "nbformat_minor": 0
}