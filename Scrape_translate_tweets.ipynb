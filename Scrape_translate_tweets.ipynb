{
  "cells": [
    {
      "cell_type": "markdown",
      "metadata": {
        "id": "ePM8CxtKxAA-"
      },
      "source": [
        "# Create own dataset from Twitter"
      ]
    },
    {
      "cell_type": "markdown",
      "source": [
        "AGENDA:\n",
        "1. Get auth keys for Twitter API\n",
        "2. Scrape specific account\n",
        "3. Scrape by keywords\n",
        "4. Translate from any language to English using GoogleTranslate API\n",
        "5. Detailed look at the twitter data\n",
        "6. Store scraped data in csv on GoogleDrive"
      ],
      "metadata": {
        "id": "irxyYnrhxkE2"
      }
    },
    {
      "cell_type": "code",
      "execution_count": 1,
      "metadata": {
        "colab": {
          "base_uri": "https://localhost:8080/"
        },
        "id": "8Fy_AM7FxABH",
        "outputId": "335d84eb-399e-43b3-e5cb-0da73e503394"
      },
      "outputs": [
        {
          "output_type": "stream",
          "name": "stdout",
          "text": [
            "Looking in indexes: https://pypi.org/simple, https://us-python.pkg.dev/colab-wheels/public/simple/\n",
            "Collecting googletrans==4.0.0-rc1\n",
            "  Downloading googletrans-4.0.0rc1.tar.gz (20 kB)\n",
            "Collecting httpx==0.13.3\n",
            "  Downloading httpx-0.13.3-py3-none-any.whl (55 kB)\n",
            "\u001b[K     |████████████████████████████████| 55 kB 1.5 MB/s \n",
            "\u001b[?25hCollecting hstspreload\n",
            "  Downloading hstspreload-2021.12.1-py3-none-any.whl (1.3 MB)\n",
            "\u001b[K     |████████████████████████████████| 1.3 MB 13.7 MB/s \n",
            "\u001b[?25hCollecting rfc3986<2,>=1.3\n",
            "  Downloading rfc3986-1.5.0-py2.py3-none-any.whl (31 kB)\n",
            "Requirement already satisfied: certifi in /usr/local/lib/python3.7/dist-packages (from httpx==0.13.3->googletrans==4.0.0-rc1) (2022.5.18.1)\n",
            "Requirement already satisfied: chardet==3.* in /usr/local/lib/python3.7/dist-packages (from httpx==0.13.3->googletrans==4.0.0-rc1) (3.0.4)\n",
            "Collecting sniffio\n",
            "  Downloading sniffio-1.2.0-py3-none-any.whl (10 kB)\n",
            "Requirement already satisfied: idna==2.* in /usr/local/lib/python3.7/dist-packages (from httpx==0.13.3->googletrans==4.0.0-rc1) (2.10)\n",
            "Collecting httpcore==0.9.*\n",
            "  Downloading httpcore-0.9.1-py3-none-any.whl (42 kB)\n",
            "\u001b[K     |████████████████████████████████| 42 kB 438 kB/s \n",
            "\u001b[?25hCollecting h11<0.10,>=0.8\n",
            "  Downloading h11-0.9.0-py2.py3-none-any.whl (53 kB)\n",
            "\u001b[K     |████████████████████████████████| 53 kB 936 kB/s \n",
            "\u001b[?25hCollecting h2==3.*\n",
            "  Downloading h2-3.2.0-py2.py3-none-any.whl (65 kB)\n",
            "\u001b[K     |████████████████████████████████| 65 kB 1.4 MB/s \n",
            "\u001b[?25hCollecting hyperframe<6,>=5.2.0\n",
            "  Downloading hyperframe-5.2.0-py2.py3-none-any.whl (12 kB)\n",
            "Collecting hpack<4,>=3.0\n",
            "  Downloading hpack-3.0.0-py2.py3-none-any.whl (38 kB)\n",
            "Building wheels for collected packages: googletrans\n",
            "  Building wheel for googletrans (setup.py) ... \u001b[?25l\u001b[?25hdone\n",
            "  Created wheel for googletrans: filename=googletrans-4.0.0rc1-py3-none-any.whl size=17416 sha256=c10106c3104876cb7ec1c8a58906787fb9fe7caac268d0dd668dd46bec5225b1\n",
            "  Stored in directory: /root/.cache/pip/wheels/43/34/00/4fe71786ea6d12314b29037620c36d857e5d104ac2748bf82a\n",
            "Successfully built googletrans\n",
            "Installing collected packages: hyperframe, hpack, sniffio, h2, h11, rfc3986, httpcore, hstspreload, httpx, googletrans\n",
            "Successfully installed googletrans-4.0.0rc1 h11-0.9.0 h2-3.2.0 hpack-3.0.0 hstspreload-2021.12.1 httpcore-0.9.1 httpx-0.13.3 hyperframe-5.2.0 rfc3986-1.5.0 sniffio-1.2.0\n"
          ]
        }
      ],
      "source": [
        "!pip install googletrans==4.0.0-rc1"
      ]
    },
    {
      "cell_type": "code",
      "execution_count": 3,
      "metadata": {
        "id": "wnAZdAFmxABM"
      },
      "outputs": [],
      "source": [
        "from googletrans import Translator\n",
        "\n",
        "import pandas as pd\n",
        "import time\n",
        "import traceback\n",
        "import tweepy"
      ]
    },
    {
      "cell_type": "markdown",
      "metadata": {
        "id": "h2OAR7f8xABN"
      },
      "source": [
        "# 1. Authentification"
      ]
    },
    {
      "cell_type": "markdown",
      "metadata": {
        "id": "EZE7uxarxABP"
      },
      "source": [
        "First, you need to register yourself as a developer to get an access to Twitter API.\n",
        "\n",
        "https://developer.twitter.com/\n",
        "\n",
        "After completing the form you will get consumer/access keys. "
      ]
    },
    {
      "cell_type": "code",
      "execution_count": 4,
      "metadata": {
        "id": "UcB40GYnxABQ"
      },
      "outputs": [],
      "source": [
        "# the values below are fake due to security reason. Substitute yours unique credentials.\n",
        "\n",
        "# consumer_key, consumer_secret\n",
        "api_key = \"xxxxxxxxxxxxxxxxxxx\"\n",
        "api_secret = \"yyyyyyyyyyyyyyyyy\"\n",
        "access_token = \"cccccccccccccccc\"\n",
        "access_secret = \"wwwwwwwwwwwwwwwwwwwwwwww\"\n",
        "\n",
        "auth = tweepy.OAuthHandler(api_key, api_secret)\n",
        "auth.set_access_token(access_token, access_secret)\n",
        "api = tweepy.API(auth, wait_on_rate_limit=True)"
      ]
    },
    {
      "cell_type": "markdown",
      "metadata": {
        "id": "yVWbqxWKxABR"
      },
      "source": [
        "# 2. Scrape twitter accounts "
      ]
    },
    {
      "cell_type": "markdown",
      "metadata": {
        "id": "6ns7tCyMxABT"
      },
      "source": [
        "The code below let you to scrape tweets from specific tweeter users. \n",
        "\n",
        "I have chosen to scrape 20 most recent tweets from three news media accounts. Scraped data to be saved in csv file."
      ]
    },
    {
      "cell_type": "code",
      "execution_count": 23,
      "metadata": {
        "colab": {
          "base_uri": "https://localhost:8080/"
        },
        "id": "cNXhM2juxABU",
        "outputId": "dada656a-a4f8-4931-84bc-312f63491dec"
      },
      "outputs": [
        {
          "output_type": "stream",
          "name": "stdout",
          "text": [
            "Scraping: cnnbrk\n",
            "Scraping: ArabNewsjp\n",
            "Scraping: France24_fr\n",
            "Completed.\n"
          ]
        }
      ],
      "source": [
        "tweets, news_media = [], ['cnnbrk', 'ArabNewsjp', 'France24_fr']\n",
        "\n",
        "count = 20\n",
        "\n",
        "try: \n",
        "    for news in news_media:\n",
        "        print(f\"Scraping: {news}\")\n",
        "        for tweet in api.user_timeline(id = news, count=count):\n",
        "            tweets.append((news, tweet.created_at, tweet.id, tweet.text))\n",
        "        time.sleep(15)    \n",
        "    df = pd.DataFrame(tweets, columns = ['news_media', 'created_at', 'tweet_id', 'text'])\n",
        "    # df.to_csv('news_tweets.csv')\n",
        "    print(\"Completed.\")\n",
        "    \n",
        "except BaseException as e:\n",
        "    traceback.print_exc()"
      ]
    },
    {
      "cell_type": "code",
      "execution_count": 25,
      "metadata": {
        "colab": {
          "base_uri": "https://localhost:8080/",
          "height": 363
        },
        "id": "oAMRN--TxABX",
        "outputId": "aa794ba8-c4d1-4608-a839-eca823220d17"
      },
      "outputs": [
        {
          "output_type": "execute_result",
          "data": {
            "text/plain": [
              "  news_media          created_at             tweet_id  \\\n",
              "0     cnnbrk 2022-06-07 01:20:46  1533982263473541120   \n",
              "1     cnnbrk 2022-06-06 20:06:09  1533903088918188037   \n",
              "2     cnnbrk 2022-06-06 19:57:45  1533900974552756225   \n",
              "3     cnnbrk 2022-06-06 07:26:20  1533711876328153090   \n",
              "4     cnnbrk 2022-06-05 15:37:11  1533473013429043200   \n",
              "5     cnnbrk 2022-06-05 10:21:25  1533393549391192064   \n",
              "6     cnnbrk 2022-06-04 14:29:07  1533093496814546946   \n",
              "7     cnnbrk 2022-06-03 23:17:29  1532864076531044352   \n",
              "8     cnnbrk 2022-06-03 15:54:11  1532752515284013056   \n",
              "9     cnnbrk 2022-06-03 13:00:00  1532708679094611969   \n",
              "\n",
              "                                                text  \n",
              "0  The Trump campaign told fake Georgia electors ...  \n",
              "1  British Prime Minister Boris Johnson has survi...  \n",
              "2  The Justice Department has charged Proud Boys ...  \n",
              "3  British Prime Minister Boris Johnson will face...  \n",
              "4  Rafael Nadal wins the French Open in straight ...  \n",
              "5  Putin warns that his forces will strike new ta...  \n",
              "6  Top-ranked Iga Swiatek wins the French Open wo...  \n",
              "7  Dave McCormick has conceded Pennsylvania's GOP...  \n",
              "8  Former Trump White House adviser Peter Navarro...  \n",
              "9  At least three people were killed and several ...  "
            ],
            "text/html": [
              "\n",
              "  <div id=\"df-e1fbf881-6aa1-4a66-b324-4af05b842520\">\n",
              "    <div class=\"colab-df-container\">\n",
              "      <div>\n",
              "<style scoped>\n",
              "    .dataframe tbody tr th:only-of-type {\n",
              "        vertical-align: middle;\n",
              "    }\n",
              "\n",
              "    .dataframe tbody tr th {\n",
              "        vertical-align: top;\n",
              "    }\n",
              "\n",
              "    .dataframe thead th {\n",
              "        text-align: right;\n",
              "    }\n",
              "</style>\n",
              "<table border=\"1\" class=\"dataframe\">\n",
              "  <thead>\n",
              "    <tr style=\"text-align: right;\">\n",
              "      <th></th>\n",
              "      <th>news_media</th>\n",
              "      <th>created_at</th>\n",
              "      <th>tweet_id</th>\n",
              "      <th>text</th>\n",
              "    </tr>\n",
              "  </thead>\n",
              "  <tbody>\n",
              "    <tr>\n",
              "      <th>0</th>\n",
              "      <td>cnnbrk</td>\n",
              "      <td>2022-06-07 01:20:46</td>\n",
              "      <td>1533982263473541120</td>\n",
              "      <td>The Trump campaign told fake Georgia electors ...</td>\n",
              "    </tr>\n",
              "    <tr>\n",
              "      <th>1</th>\n",
              "      <td>cnnbrk</td>\n",
              "      <td>2022-06-06 20:06:09</td>\n",
              "      <td>1533903088918188037</td>\n",
              "      <td>British Prime Minister Boris Johnson has survi...</td>\n",
              "    </tr>\n",
              "    <tr>\n",
              "      <th>2</th>\n",
              "      <td>cnnbrk</td>\n",
              "      <td>2022-06-06 19:57:45</td>\n",
              "      <td>1533900974552756225</td>\n",
              "      <td>The Justice Department has charged Proud Boys ...</td>\n",
              "    </tr>\n",
              "    <tr>\n",
              "      <th>3</th>\n",
              "      <td>cnnbrk</td>\n",
              "      <td>2022-06-06 07:26:20</td>\n",
              "      <td>1533711876328153090</td>\n",
              "      <td>British Prime Minister Boris Johnson will face...</td>\n",
              "    </tr>\n",
              "    <tr>\n",
              "      <th>4</th>\n",
              "      <td>cnnbrk</td>\n",
              "      <td>2022-06-05 15:37:11</td>\n",
              "      <td>1533473013429043200</td>\n",
              "      <td>Rafael Nadal wins the French Open in straight ...</td>\n",
              "    </tr>\n",
              "    <tr>\n",
              "      <th>5</th>\n",
              "      <td>cnnbrk</td>\n",
              "      <td>2022-06-05 10:21:25</td>\n",
              "      <td>1533393549391192064</td>\n",
              "      <td>Putin warns that his forces will strike new ta...</td>\n",
              "    </tr>\n",
              "    <tr>\n",
              "      <th>6</th>\n",
              "      <td>cnnbrk</td>\n",
              "      <td>2022-06-04 14:29:07</td>\n",
              "      <td>1533093496814546946</td>\n",
              "      <td>Top-ranked Iga Swiatek wins the French Open wo...</td>\n",
              "    </tr>\n",
              "    <tr>\n",
              "      <th>7</th>\n",
              "      <td>cnnbrk</td>\n",
              "      <td>2022-06-03 23:17:29</td>\n",
              "      <td>1532864076531044352</td>\n",
              "      <td>Dave McCormick has conceded Pennsylvania's GOP...</td>\n",
              "    </tr>\n",
              "    <tr>\n",
              "      <th>8</th>\n",
              "      <td>cnnbrk</td>\n",
              "      <td>2022-06-03 15:54:11</td>\n",
              "      <td>1532752515284013056</td>\n",
              "      <td>Former Trump White House adviser Peter Navarro...</td>\n",
              "    </tr>\n",
              "    <tr>\n",
              "      <th>9</th>\n",
              "      <td>cnnbrk</td>\n",
              "      <td>2022-06-03 13:00:00</td>\n",
              "      <td>1532708679094611969</td>\n",
              "      <td>At least three people were killed and several ...</td>\n",
              "    </tr>\n",
              "  </tbody>\n",
              "</table>\n",
              "</div>\n",
              "      <button class=\"colab-df-convert\" onclick=\"convertToInteractive('df-e1fbf881-6aa1-4a66-b324-4af05b842520')\"\n",
              "              title=\"Convert this dataframe to an interactive table.\"\n",
              "              style=\"display:none;\">\n",
              "        \n",
              "  <svg xmlns=\"http://www.w3.org/2000/svg\" height=\"24px\"viewBox=\"0 0 24 24\"\n",
              "       width=\"24px\">\n",
              "    <path d=\"M0 0h24v24H0V0z\" fill=\"none\"/>\n",
              "    <path d=\"M18.56 5.44l.94 2.06.94-2.06 2.06-.94-2.06-.94-.94-2.06-.94 2.06-2.06.94zm-11 1L8.5 8.5l.94-2.06 2.06-.94-2.06-.94L8.5 2.5l-.94 2.06-2.06.94zm10 10l.94 2.06.94-2.06 2.06-.94-2.06-.94-.94-2.06-.94 2.06-2.06.94z\"/><path d=\"M17.41 7.96l-1.37-1.37c-.4-.4-.92-.59-1.43-.59-.52 0-1.04.2-1.43.59L10.3 9.45l-7.72 7.72c-.78.78-.78 2.05 0 2.83L4 21.41c.39.39.9.59 1.41.59.51 0 1.02-.2 1.41-.59l7.78-7.78 2.81-2.81c.8-.78.8-2.07 0-2.86zM5.41 20L4 18.59l7.72-7.72 1.47 1.35L5.41 20z\"/>\n",
              "  </svg>\n",
              "      </button>\n",
              "      \n",
              "  <style>\n",
              "    .colab-df-container {\n",
              "      display:flex;\n",
              "      flex-wrap:wrap;\n",
              "      gap: 12px;\n",
              "    }\n",
              "\n",
              "    .colab-df-convert {\n",
              "      background-color: #E8F0FE;\n",
              "      border: none;\n",
              "      border-radius: 50%;\n",
              "      cursor: pointer;\n",
              "      display: none;\n",
              "      fill: #1967D2;\n",
              "      height: 32px;\n",
              "      padding: 0 0 0 0;\n",
              "      width: 32px;\n",
              "    }\n",
              "\n",
              "    .colab-df-convert:hover {\n",
              "      background-color: #E2EBFA;\n",
              "      box-shadow: 0px 1px 2px rgba(60, 64, 67, 0.3), 0px 1px 3px 1px rgba(60, 64, 67, 0.15);\n",
              "      fill: #174EA6;\n",
              "    }\n",
              "\n",
              "    [theme=dark] .colab-df-convert {\n",
              "      background-color: #3B4455;\n",
              "      fill: #D2E3FC;\n",
              "    }\n",
              "\n",
              "    [theme=dark] .colab-df-convert:hover {\n",
              "      background-color: #434B5C;\n",
              "      box-shadow: 0px 1px 3px 1px rgba(0, 0, 0, 0.15);\n",
              "      filter: drop-shadow(0px 1px 2px rgba(0, 0, 0, 0.3));\n",
              "      fill: #FFFFFF;\n",
              "    }\n",
              "  </style>\n",
              "\n",
              "      <script>\n",
              "        const buttonEl =\n",
              "          document.querySelector('#df-e1fbf881-6aa1-4a66-b324-4af05b842520 button.colab-df-convert');\n",
              "        buttonEl.style.display =\n",
              "          google.colab.kernel.accessAllowed ? 'block' : 'none';\n",
              "\n",
              "        async function convertToInteractive(key) {\n",
              "          const element = document.querySelector('#df-e1fbf881-6aa1-4a66-b324-4af05b842520');\n",
              "          const dataTable =\n",
              "            await google.colab.kernel.invokeFunction('convertToInteractive',\n",
              "                                                     [key], {});\n",
              "          if (!dataTable) return;\n",
              "\n",
              "          const docLinkHtml = 'Like what you see? Visit the ' +\n",
              "            '<a target=\"_blank\" href=https://colab.research.google.com/notebooks/data_table.ipynb>data table notebook</a>'\n",
              "            + ' to learn more about interactive tables.';\n",
              "          element.innerHTML = '';\n",
              "          dataTable['output_type'] = 'display_data';\n",
              "          await google.colab.output.renderOutput(dataTable, element);\n",
              "          const docLink = document.createElement('div');\n",
              "          docLink.innerHTML = docLinkHtml;\n",
              "          element.appendChild(docLink);\n",
              "        }\n",
              "      </script>\n",
              "    </div>\n",
              "  </div>\n",
              "  "
            ]
          },
          "metadata": {},
          "execution_count": 25
        }
      ],
      "source": [
        "df.head(10)"
      ]
    },
    {
      "cell_type": "markdown",
      "source": [
        "# 3/4. Scrape tweets by query. Translate in English"
      ],
      "metadata": {
        "id": "I5GKFdfVyS1O"
      }
    },
    {
      "cell_type": "markdown",
      "metadata": {
        "id": "SqAbk7sKxABY"
      },
      "source": [
        "The code below lets you to scrape tweets by keywords. You get the most recent tweets by the keywords from Twitter stream. Additionally, if the tweet was not in English, I would like to translate them into English. Save all data in csv.\n",
        "\n",
        "Therefore, I extract for every tweet: \n",
        "\n",
        "* time it was created_at\n",
        "* tweet_id \n",
        "* tweet text \n",
        "* username (unique tweeter username) \n",
        "* name (name written by user)\n",
        "* location (where the user is from)\n",
        "* followers_count (number of user's followers)\n",
        "* original language"
      ]
    },
    {
      "cell_type": "code",
      "execution_count": 27,
      "metadata": {
        "scrolled": true,
        "colab": {
          "base_uri": "https://localhost:8080/"
        },
        "id": "8VLJ1PqtxABa",
        "outputId": "707f6f9d-050d-4796-914e-1c23c126a19c"
      },
      "outputs": [
        {
          "output_type": "stream",
          "name": "stdout",
          "text": [
            "Raw tweet: RT @myuuko: 日本政府の10万円給付には景気刺激効果があったよ！という研究。280万件の銀行口座のデータによると，給付の週にすぐ支出が増え，その1ヵ月後も支出が上昇していた。/ Consumption responses to COVID-19 payments: E…\n",
            "Raw tweet: @Karmashoarma @RamoniMeijering @Kevinpkrr @HuyskensJohan @PetraWoude @rblommestijn News flash: Niet wappies zijn oo… https://t.co/fREyYXkGdF\n",
            "Raw tweet: RT @politicaestereo: #PruebasPCR | Las cabinas móviles del @EICEES se instalarán hoy en los parques centrales de Turín, Ahuachapán ; Dulce…\n",
            "Raw tweet: RT @1st_Army_Area: รายงานผู้ป่วยติดเชื้อโควิด-19 วันอังคารที่ 7 มิถุนายน 2565 ผู้ป่วยใหม่ 2,224 คน หายป่วย 4,824 คน และเสียชีวิต 20 คน\n",
            "\n",
            "#โค…\n",
            "Raw tweet: RT @HectorRossete: En México se reportó más de 18 mil casos de COVID-19 en una semana; yo veo más próximo el repunte de casos, que la adqui…\n",
            "Raw tweet: RT @myuuko: 日本政府の10万円給付には景気刺激効果があったよ！という研究。280万件の銀行口座のデータによると，給付の週にすぐ支出が増え，その1ヵ月後も支出が上昇していた。/ Consumption responses to COVID-19 payments: E…\n",
            "Completed.\n"
          ]
        }
      ],
      "source": [
        "tweets, text_query = [], 'coronavirus OR virus OR covid-19 OR covid19 OR Κορονοϊός'\n",
        "count = 10\n",
        "\n",
        "try:\n",
        "    for tweet in api.search(q=text_query, count=count, result_type='recent',\n",
        "                           include_entities=True,\n",
        "                           monitor_rate_limit=True, \n",
        "                           wait_on_rate_limit=True):\n",
        "        # print(f\"Raw tweet: {tweet}\")\n",
        "        tweet_text = \"\"\n",
        "            \n",
        "        try:\n",
        "            tr = Translator()\n",
        "            \n",
        "            if tweet.lang and tweet.lang not in ['en', 'und']:\n",
        "                print(f\"Raw tweet: {tweet.text}\")\n",
        "                    \n",
        "                if tweet.text:\n",
        "                    translated = tr.translate(tweet.text)\n",
        "                    if translated:\n",
        "                        tweet_text = translated.__dict__()[\"text\"]\n",
        "            else:\n",
        "                tweet_text = tweet.text\n",
        "                \n",
        "        except Exception as e:\n",
        "            traceback.print_exc()\n",
        "            pass\n",
        "        \n",
        "        tweets.append((tweet.created_at, tweet.id, tweet.text, tweet_text, tweet.user.screen_name, tweet.user.name, \n",
        "                               tweet.user.location, tweet.user.followers_count, tweet.lang))\n",
        "        \n",
        "        df = pd.DataFrame(tweets, columns = ['created_at', 'tweet_id', 'text_raw', 'text_en', 'username', 'name', 'location', 'followers_count', 'lang'])\n",
        "        # df.to_csv('tweets_by_keywords.csv')\n",
        "        time.sleep(3)\n",
        "        \n",
        "    print(\"Completed.\")\n",
        "    \n",
        "except BaseException as e:\n",
        "    traceback.print_exc()        "
      ]
    },
    {
      "cell_type": "code",
      "source": [
        "df.head(3)"
      ],
      "metadata": {
        "colab": {
          "base_uri": "https://localhost:8080/",
          "height": 292
        },
        "id": "kDKjT42AIhRM",
        "outputId": "7fe34bd8-5fae-4743-cdbd-b465c96f1313"
      },
      "execution_count": 28,
      "outputs": [
        {
          "output_type": "execute_result",
          "data": {
            "text/plain": [
              "           created_at             tweet_id  \\\n",
              "0 2022-06-07 12:24:02  1534149180977201153   \n",
              "1 2022-06-07 12:24:02  1534149180813352960   \n",
              "2 2022-06-07 12:24:02  1534149180603572230   \n",
              "\n",
              "                                            text_raw  \\\n",
              "0  RT @myuuko: 日本政府の10万円給付には景気刺激効果があったよ！という研究。280...   \n",
              "1  @Karmashoarma @RamoniMeijering @Kevinpkrr @Huy...   \n",
              "2  RT @NavroopSingh_: Adverse effects of COVID-19...   \n",
              "\n",
              "                                             text_en         username  \\\n",
              "0  RT @myuuko: The Japanese government's 100,000 ...      kusuriya330   \n",
              "1  @Karmashoarma @ramonimeijering @kevinpkrr @huy...  cat_coronavirus   \n",
              "2  RT @NavroopSingh_: Adverse effects of COVID-19...        vikas1689   \n",
              "\n",
              "               name                    location  followers_count lang  \n",
              "0              くすりや               足立区の北東端（陸の孤島）              101   ja  \n",
              "1       Coronavirus  Amsterdam, The Netherlands              466   nl  \n",
              "2  Akhand Bharat 🇮🇳                                         1396   en  "
            ],
            "text/html": [
              "\n",
              "  <div id=\"df-010fd7a0-4917-49a5-a8f2-8d56a3b4445d\">\n",
              "    <div class=\"colab-df-container\">\n",
              "      <div>\n",
              "<style scoped>\n",
              "    .dataframe tbody tr th:only-of-type {\n",
              "        vertical-align: middle;\n",
              "    }\n",
              "\n",
              "    .dataframe tbody tr th {\n",
              "        vertical-align: top;\n",
              "    }\n",
              "\n",
              "    .dataframe thead th {\n",
              "        text-align: right;\n",
              "    }\n",
              "</style>\n",
              "<table border=\"1\" class=\"dataframe\">\n",
              "  <thead>\n",
              "    <tr style=\"text-align: right;\">\n",
              "      <th></th>\n",
              "      <th>created_at</th>\n",
              "      <th>tweet_id</th>\n",
              "      <th>text_raw</th>\n",
              "      <th>text_en</th>\n",
              "      <th>username</th>\n",
              "      <th>name</th>\n",
              "      <th>location</th>\n",
              "      <th>followers_count</th>\n",
              "      <th>lang</th>\n",
              "    </tr>\n",
              "  </thead>\n",
              "  <tbody>\n",
              "    <tr>\n",
              "      <th>0</th>\n",
              "      <td>2022-06-07 12:24:02</td>\n",
              "      <td>1534149180977201153</td>\n",
              "      <td>RT @myuuko: 日本政府の10万円給付には景気刺激効果があったよ！という研究。280...</td>\n",
              "      <td>RT @myuuko: The Japanese government's 100,000 ...</td>\n",
              "      <td>kusuriya330</td>\n",
              "      <td>くすりや</td>\n",
              "      <td>足立区の北東端（陸の孤島）</td>\n",
              "      <td>101</td>\n",
              "      <td>ja</td>\n",
              "    </tr>\n",
              "    <tr>\n",
              "      <th>1</th>\n",
              "      <td>2022-06-07 12:24:02</td>\n",
              "      <td>1534149180813352960</td>\n",
              "      <td>@Karmashoarma @RamoniMeijering @Kevinpkrr @Huy...</td>\n",
              "      <td>@Karmashoarma @ramonimeijering @kevinpkrr @huy...</td>\n",
              "      <td>cat_coronavirus</td>\n",
              "      <td>Coronavirus</td>\n",
              "      <td>Amsterdam, The Netherlands</td>\n",
              "      <td>466</td>\n",
              "      <td>nl</td>\n",
              "    </tr>\n",
              "    <tr>\n",
              "      <th>2</th>\n",
              "      <td>2022-06-07 12:24:02</td>\n",
              "      <td>1534149180603572230</td>\n",
              "      <td>RT @NavroopSingh_: Adverse effects of COVID-19...</td>\n",
              "      <td>RT @NavroopSingh_: Adverse effects of COVID-19...</td>\n",
              "      <td>vikas1689</td>\n",
              "      <td>Akhand Bharat 🇮🇳</td>\n",
              "      <td></td>\n",
              "      <td>1396</td>\n",
              "      <td>en</td>\n",
              "    </tr>\n",
              "  </tbody>\n",
              "</table>\n",
              "</div>\n",
              "      <button class=\"colab-df-convert\" onclick=\"convertToInteractive('df-010fd7a0-4917-49a5-a8f2-8d56a3b4445d')\"\n",
              "              title=\"Convert this dataframe to an interactive table.\"\n",
              "              style=\"display:none;\">\n",
              "        \n",
              "  <svg xmlns=\"http://www.w3.org/2000/svg\" height=\"24px\"viewBox=\"0 0 24 24\"\n",
              "       width=\"24px\">\n",
              "    <path d=\"M0 0h24v24H0V0z\" fill=\"none\"/>\n",
              "    <path d=\"M18.56 5.44l.94 2.06.94-2.06 2.06-.94-2.06-.94-.94-2.06-.94 2.06-2.06.94zm-11 1L8.5 8.5l.94-2.06 2.06-.94-2.06-.94L8.5 2.5l-.94 2.06-2.06.94zm10 10l.94 2.06.94-2.06 2.06-.94-2.06-.94-.94-2.06-.94 2.06-2.06.94z\"/><path d=\"M17.41 7.96l-1.37-1.37c-.4-.4-.92-.59-1.43-.59-.52 0-1.04.2-1.43.59L10.3 9.45l-7.72 7.72c-.78.78-.78 2.05 0 2.83L4 21.41c.39.39.9.59 1.41.59.51 0 1.02-.2 1.41-.59l7.78-7.78 2.81-2.81c.8-.78.8-2.07 0-2.86zM5.41 20L4 18.59l7.72-7.72 1.47 1.35L5.41 20z\"/>\n",
              "  </svg>\n",
              "      </button>\n",
              "      \n",
              "  <style>\n",
              "    .colab-df-container {\n",
              "      display:flex;\n",
              "      flex-wrap:wrap;\n",
              "      gap: 12px;\n",
              "    }\n",
              "\n",
              "    .colab-df-convert {\n",
              "      background-color: #E8F0FE;\n",
              "      border: none;\n",
              "      border-radius: 50%;\n",
              "      cursor: pointer;\n",
              "      display: none;\n",
              "      fill: #1967D2;\n",
              "      height: 32px;\n",
              "      padding: 0 0 0 0;\n",
              "      width: 32px;\n",
              "    }\n",
              "\n",
              "    .colab-df-convert:hover {\n",
              "      background-color: #E2EBFA;\n",
              "      box-shadow: 0px 1px 2px rgba(60, 64, 67, 0.3), 0px 1px 3px 1px rgba(60, 64, 67, 0.15);\n",
              "      fill: #174EA6;\n",
              "    }\n",
              "\n",
              "    [theme=dark] .colab-df-convert {\n",
              "      background-color: #3B4455;\n",
              "      fill: #D2E3FC;\n",
              "    }\n",
              "\n",
              "    [theme=dark] .colab-df-convert:hover {\n",
              "      background-color: #434B5C;\n",
              "      box-shadow: 0px 1px 3px 1px rgba(0, 0, 0, 0.15);\n",
              "      filter: drop-shadow(0px 1px 2px rgba(0, 0, 0, 0.3));\n",
              "      fill: #FFFFFF;\n",
              "    }\n",
              "  </style>\n",
              "\n",
              "      <script>\n",
              "        const buttonEl =\n",
              "          document.querySelector('#df-010fd7a0-4917-49a5-a8f2-8d56a3b4445d button.colab-df-convert');\n",
              "        buttonEl.style.display =\n",
              "          google.colab.kernel.accessAllowed ? 'block' : 'none';\n",
              "\n",
              "        async function convertToInteractive(key) {\n",
              "          const element = document.querySelector('#df-010fd7a0-4917-49a5-a8f2-8d56a3b4445d');\n",
              "          const dataTable =\n",
              "            await google.colab.kernel.invokeFunction('convertToInteractive',\n",
              "                                                     [key], {});\n",
              "          if (!dataTable) return;\n",
              "\n",
              "          const docLinkHtml = 'Like what you see? Visit the ' +\n",
              "            '<a target=\"_blank\" href=https://colab.research.google.com/notebooks/data_table.ipynb>data table notebook</a>'\n",
              "            + ' to learn more about interactive tables.';\n",
              "          element.innerHTML = '';\n",
              "          dataTable['output_type'] = 'display_data';\n",
              "          await google.colab.output.renderOutput(dataTable, element);\n",
              "          const docLink = document.createElement('div');\n",
              "          docLink.innerHTML = docLinkHtml;\n",
              "          element.appendChild(docLink);\n",
              "        }\n",
              "      </script>\n",
              "    </div>\n",
              "  </div>\n",
              "  "
            ]
          },
          "metadata": {},
          "execution_count": 28
        }
      ]
    },
    {
      "cell_type": "code",
      "execution_count": 29,
      "metadata": {
        "colab": {
          "base_uri": "https://localhost:8080/",
          "height": 363
        },
        "id": "QPXeyao_xABe",
        "outputId": "e3e7c41a-8142-4451-824a-844899effa55"
      },
      "outputs": [
        {
          "output_type": "execute_result",
          "data": {
            "text/plain": [
              "                                            text_raw  \\\n",
              "0  RT @myuuko: 日本政府の10万円給付には景気刺激効果があったよ！という研究。280...   \n",
              "1  @Karmashoarma @RamoniMeijering @Kevinpkrr @Huy...   \n",
              "2  RT @NavroopSingh_: Adverse effects of COVID-19...   \n",
              "3  RT @IAmAshAsh1: Latest CDC Data Shows Covid-19...   \n",
              "4  We have had locust invasions, the terrorist bo...   \n",
              "5  RT @politicaestereo: #PruebasPCR | Las cabinas...   \n",
              "6  RT @1st_Army_Area: รายงานผู้ป่วยติดเชื้อโควิด-...   \n",
              "7  RT @HectorRossete: En México se reportó más de...   \n",
              "8  RT @myuuko: 日本政府の10万円給付には景気刺激効果があったよ！という研究。280...   \n",
              "9  RT @Peston: For many, @uksciencechief became s...   \n",
              "\n",
              "                                             text_en lang  \n",
              "0  RT @myuuko: The Japanese government's 100,000 ...   ja  \n",
              "1  @Karmashoarma @ramonimeijering @kevinpkrr @huy...   nl  \n",
              "2  RT @NavroopSingh_: Adverse effects of COVID-19...   en  \n",
              "3  RT @IAmAshAsh1: Latest CDC Data Shows Covid-19...   en  \n",
              "4  We have had locust invasions, the terrorist bo...   en  \n",
              "5  Rt @politica celebrity: #Pruebaspcr |The mobil...   es  \n",
              "6  RT @1st_army_area: Report of patients with Cho...   th  \n",
              "7  RT @Hectorrossete: In Mexico, more than 18 tho...   es  \n",
              "8  RT @myuuko: The Japanese government's 100,000 ...   ja  \n",
              "9  RT @Peston: For many, @uksciencechief became s...   en  "
            ],
            "text/html": [
              "\n",
              "  <div id=\"df-7be312fd-5508-467e-afcf-0dcc91242b98\">\n",
              "    <div class=\"colab-df-container\">\n",
              "      <div>\n",
              "<style scoped>\n",
              "    .dataframe tbody tr th:only-of-type {\n",
              "        vertical-align: middle;\n",
              "    }\n",
              "\n",
              "    .dataframe tbody tr th {\n",
              "        vertical-align: top;\n",
              "    }\n",
              "\n",
              "    .dataframe thead th {\n",
              "        text-align: right;\n",
              "    }\n",
              "</style>\n",
              "<table border=\"1\" class=\"dataframe\">\n",
              "  <thead>\n",
              "    <tr style=\"text-align: right;\">\n",
              "      <th></th>\n",
              "      <th>text_raw</th>\n",
              "      <th>text_en</th>\n",
              "      <th>lang</th>\n",
              "    </tr>\n",
              "  </thead>\n",
              "  <tbody>\n",
              "    <tr>\n",
              "      <th>0</th>\n",
              "      <td>RT @myuuko: 日本政府の10万円給付には景気刺激効果があったよ！という研究。280...</td>\n",
              "      <td>RT @myuuko: The Japanese government's 100,000 ...</td>\n",
              "      <td>ja</td>\n",
              "    </tr>\n",
              "    <tr>\n",
              "      <th>1</th>\n",
              "      <td>@Karmashoarma @RamoniMeijering @Kevinpkrr @Huy...</td>\n",
              "      <td>@Karmashoarma @ramonimeijering @kevinpkrr @huy...</td>\n",
              "      <td>nl</td>\n",
              "    </tr>\n",
              "    <tr>\n",
              "      <th>2</th>\n",
              "      <td>RT @NavroopSingh_: Adverse effects of COVID-19...</td>\n",
              "      <td>RT @NavroopSingh_: Adverse effects of COVID-19...</td>\n",
              "      <td>en</td>\n",
              "    </tr>\n",
              "    <tr>\n",
              "      <th>3</th>\n",
              "      <td>RT @IAmAshAsh1: Latest CDC Data Shows Covid-19...</td>\n",
              "      <td>RT @IAmAshAsh1: Latest CDC Data Shows Covid-19...</td>\n",
              "      <td>en</td>\n",
              "    </tr>\n",
              "    <tr>\n",
              "      <th>4</th>\n",
              "      <td>We have had locust invasions, the terrorist bo...</td>\n",
              "      <td>We have had locust invasions, the terrorist bo...</td>\n",
              "      <td>en</td>\n",
              "    </tr>\n",
              "    <tr>\n",
              "      <th>5</th>\n",
              "      <td>RT @politicaestereo: #PruebasPCR | Las cabinas...</td>\n",
              "      <td>Rt @politica celebrity: #Pruebaspcr |The mobil...</td>\n",
              "      <td>es</td>\n",
              "    </tr>\n",
              "    <tr>\n",
              "      <th>6</th>\n",
              "      <td>RT @1st_Army_Area: รายงานผู้ป่วยติดเชื้อโควิด-...</td>\n",
              "      <td>RT @1st_army_area: Report of patients with Cho...</td>\n",
              "      <td>th</td>\n",
              "    </tr>\n",
              "    <tr>\n",
              "      <th>7</th>\n",
              "      <td>RT @HectorRossete: En México se reportó más de...</td>\n",
              "      <td>RT @Hectorrossete: In Mexico, more than 18 tho...</td>\n",
              "      <td>es</td>\n",
              "    </tr>\n",
              "    <tr>\n",
              "      <th>8</th>\n",
              "      <td>RT @myuuko: 日本政府の10万円給付には景気刺激効果があったよ！という研究。280...</td>\n",
              "      <td>RT @myuuko: The Japanese government's 100,000 ...</td>\n",
              "      <td>ja</td>\n",
              "    </tr>\n",
              "    <tr>\n",
              "      <th>9</th>\n",
              "      <td>RT @Peston: For many, @uksciencechief became s...</td>\n",
              "      <td>RT @Peston: For many, @uksciencechief became s...</td>\n",
              "      <td>en</td>\n",
              "    </tr>\n",
              "  </tbody>\n",
              "</table>\n",
              "</div>\n",
              "      <button class=\"colab-df-convert\" onclick=\"convertToInteractive('df-7be312fd-5508-467e-afcf-0dcc91242b98')\"\n",
              "              title=\"Convert this dataframe to an interactive table.\"\n",
              "              style=\"display:none;\">\n",
              "        \n",
              "  <svg xmlns=\"http://www.w3.org/2000/svg\" height=\"24px\"viewBox=\"0 0 24 24\"\n",
              "       width=\"24px\">\n",
              "    <path d=\"M0 0h24v24H0V0z\" fill=\"none\"/>\n",
              "    <path d=\"M18.56 5.44l.94 2.06.94-2.06 2.06-.94-2.06-.94-.94-2.06-.94 2.06-2.06.94zm-11 1L8.5 8.5l.94-2.06 2.06-.94-2.06-.94L8.5 2.5l-.94 2.06-2.06.94zm10 10l.94 2.06.94-2.06 2.06-.94-2.06-.94-.94-2.06-.94 2.06-2.06.94z\"/><path d=\"M17.41 7.96l-1.37-1.37c-.4-.4-.92-.59-1.43-.59-.52 0-1.04.2-1.43.59L10.3 9.45l-7.72 7.72c-.78.78-.78 2.05 0 2.83L4 21.41c.39.39.9.59 1.41.59.51 0 1.02-.2 1.41-.59l7.78-7.78 2.81-2.81c.8-.78.8-2.07 0-2.86zM5.41 20L4 18.59l7.72-7.72 1.47 1.35L5.41 20z\"/>\n",
              "  </svg>\n",
              "      </button>\n",
              "      \n",
              "  <style>\n",
              "    .colab-df-container {\n",
              "      display:flex;\n",
              "      flex-wrap:wrap;\n",
              "      gap: 12px;\n",
              "    }\n",
              "\n",
              "    .colab-df-convert {\n",
              "      background-color: #E8F0FE;\n",
              "      border: none;\n",
              "      border-radius: 50%;\n",
              "      cursor: pointer;\n",
              "      display: none;\n",
              "      fill: #1967D2;\n",
              "      height: 32px;\n",
              "      padding: 0 0 0 0;\n",
              "      width: 32px;\n",
              "    }\n",
              "\n",
              "    .colab-df-convert:hover {\n",
              "      background-color: #E2EBFA;\n",
              "      box-shadow: 0px 1px 2px rgba(60, 64, 67, 0.3), 0px 1px 3px 1px rgba(60, 64, 67, 0.15);\n",
              "      fill: #174EA6;\n",
              "    }\n",
              "\n",
              "    [theme=dark] .colab-df-convert {\n",
              "      background-color: #3B4455;\n",
              "      fill: #D2E3FC;\n",
              "    }\n",
              "\n",
              "    [theme=dark] .colab-df-convert:hover {\n",
              "      background-color: #434B5C;\n",
              "      box-shadow: 0px 1px 3px 1px rgba(0, 0, 0, 0.15);\n",
              "      filter: drop-shadow(0px 1px 2px rgba(0, 0, 0, 0.3));\n",
              "      fill: #FFFFFF;\n",
              "    }\n",
              "  </style>\n",
              "\n",
              "      <script>\n",
              "        const buttonEl =\n",
              "          document.querySelector('#df-7be312fd-5508-467e-afcf-0dcc91242b98 button.colab-df-convert');\n",
              "        buttonEl.style.display =\n",
              "          google.colab.kernel.accessAllowed ? 'block' : 'none';\n",
              "\n",
              "        async function convertToInteractive(key) {\n",
              "          const element = document.querySelector('#df-7be312fd-5508-467e-afcf-0dcc91242b98');\n",
              "          const dataTable =\n",
              "            await google.colab.kernel.invokeFunction('convertToInteractive',\n",
              "                                                     [key], {});\n",
              "          if (!dataTable) return;\n",
              "\n",
              "          const docLinkHtml = 'Like what you see? Visit the ' +\n",
              "            '<a target=\"_blank\" href=https://colab.research.google.com/notebooks/data_table.ipynb>data table notebook</a>'\n",
              "            + ' to learn more about interactive tables.';\n",
              "          element.innerHTML = '';\n",
              "          dataTable['output_type'] = 'display_data';\n",
              "          await google.colab.output.renderOutput(dataTable, element);\n",
              "          const docLink = document.createElement('div');\n",
              "          docLink.innerHTML = docLinkHtml;\n",
              "          element.appendChild(docLink);\n",
              "        }\n",
              "      </script>\n",
              "    </div>\n",
              "  </div>\n",
              "  "
            ]
          },
          "metadata": {},
          "execution_count": 29
        }
      ],
      "source": [
        "df[['text_raw', 'text_en', 'lang']]"
      ]
    },
    {
      "cell_type": "markdown",
      "source": [
        "## 5. Explore api.search response"
      ],
      "metadata": {
        "id": "PVqSgD_bBZad"
      }
    },
    {
      "cell_type": "code",
      "source": [
        "tweet"
      ],
      "metadata": {
        "colab": {
          "base_uri": "https://localhost:8080/"
        },
        "id": "mVli4si3zBND",
        "outputId": "f62ebb82-ab37-492c-932d-91a261e6e5ba"
      },
      "execution_count": 30,
      "outputs": [
        {
          "output_type": "execute_result",
          "data": {
            "text/plain": [
              "Status(_api=<tweepy.api.API object at 0x7f3a366ba510>, _json={'created_at': 'Tue Jun 07 12:24:01 +0000 2022', 'id': 1534149177856376832, 'id_str': '1534149177856376832', 'text': 'RT @Peston: For many, @uksciencechief became something of a hero for the way he helped protect us from #Covid_19. So @itvnews asked him: “w…', 'truncated': False, 'entities': {'hashtags': [{'text': 'Covid_19', 'indices': [103, 112]}], 'symbols': [], 'user_mentions': [{'screen_name': 'Peston', 'name': 'Robert Peston', 'id': 14157134, 'id_str': '14157134', 'indices': [3, 10]}, {'screen_name': 'uksciencechief', 'name': 'Sir Patrick Vallance', 'id': 264124770, 'id_str': '264124770', 'indices': [22, 37]}, {'screen_name': 'itvnews', 'name': 'ITV News', 'id': 21866939, 'id_str': '21866939', 'indices': [117, 125]}], 'urls': []}, 'metadata': {'iso_language_code': 'en', 'result_type': 'recent'}, 'source': '<a href=\"http://twitter.com/download/android\" rel=\"nofollow\">Twitter for Android</a>', 'in_reply_to_status_id': None, 'in_reply_to_status_id_str': None, 'in_reply_to_user_id': None, 'in_reply_to_user_id_str': None, 'in_reply_to_screen_name': None, 'user': {'id': 1468551971519008773, 'id_str': '1468551971519008773', 'name': 'David Allan', 'screen_name': 'DavidAllan704', 'location': 'Oxfordshire', 'description': 'Principal Beamline Scientist, beamline I19, Diamond Light Source', 'url': None, 'entities': {'description': {'urls': []}}, 'protected': False, 'followers_count': 388, 'friends_count': 2876, 'listed_count': 0, 'created_at': 'Wed Dec 08 12:04:46 +0000 2021', 'favourites_count': 54129, 'utc_offset': None, 'time_zone': None, 'geo_enabled': False, 'verified': False, 'statuses_count': 4495, 'lang': None, 'contributors_enabled': False, 'is_translator': False, 'is_translation_enabled': False, 'profile_background_color': 'F5F8FA', 'profile_background_image_url': None, 'profile_background_image_url_https': None, 'profile_background_tile': False, 'profile_image_url': 'http://pbs.twimg.com/profile_images/1468552130172964864/5FVWDo0s_normal.jpg', 'profile_image_url_https': 'https://pbs.twimg.com/profile_images/1468552130172964864/5FVWDo0s_normal.jpg', 'profile_banner_url': 'https://pbs.twimg.com/profile_banners/1468551971519008773/1639563844', 'profile_link_color': '1DA1F2', 'profile_sidebar_border_color': 'C0DEED', 'profile_sidebar_fill_color': 'DDEEF6', 'profile_text_color': '333333', 'profile_use_background_image': True, 'has_extended_profile': True, 'default_profile': True, 'default_profile_image': False, 'following': False, 'follow_request_sent': False, 'notifications': False, 'translator_type': 'none', 'withheld_in_countries': []}, 'geo': None, 'coordinates': None, 'place': None, 'contributors': None, 'retweeted_status': {'created_at': 'Tue Jun 07 12:05:26 +0000 2022', 'id': 1534144501874409472, 'id_str': '1534144501874409472', 'text': 'For many, @uksciencechief became something of a hero for the way he helped protect us from #Covid_19. So @itvnews a… https://t.co/D25kw8iJ2T', 'truncated': True, 'entities': {'hashtags': [{'text': 'Covid_19', 'indices': [91, 100]}], 'symbols': [], 'user_mentions': [{'screen_name': 'uksciencechief', 'name': 'Sir Patrick Vallance', 'id': 264124770, 'id_str': '264124770', 'indices': [10, 25]}, {'screen_name': 'itvnews', 'name': 'ITV News', 'id': 21866939, 'id_str': '21866939', 'indices': [105, 113]}], 'urls': [{'url': 'https://t.co/D25kw8iJ2T', 'expanded_url': 'https://twitter.com/i/web/status/1534144501874409472', 'display_url': 'twitter.com/i/web/status/1…', 'indices': [117, 140]}]}, 'metadata': {'iso_language_code': 'en', 'result_type': 'recent'}, 'source': '<a href=\"http://twitter.com/download/iphone\" rel=\"nofollow\">Twitter for iPhone</a>', 'in_reply_to_status_id': None, 'in_reply_to_status_id_str': None, 'in_reply_to_user_id': None, 'in_reply_to_user_id_str': None, 'in_reply_to_screen_name': None, 'user': {'id': 14157134, 'id_str': '14157134', 'name': 'Robert Peston', 'screen_name': 'Peston', 'location': '', 'description': 'ITV (pol ed), Speakers for Schools (founder), writer (WTF), Hospice UK (vice pres), Arsenal (East Stand), Peston (as in #Peston show, 10.45pm Weds). So?', 'url': 'https://t.co/KcrDn3jvur', 'entities': {'url': {'urls': [{'url': 'https://t.co/KcrDn3jvur', 'expanded_url': 'http://itv.com/robertpeston', 'display_url': 'itv.com/robertpeston', 'indices': [0, 23]}]}, 'description': {'urls': []}}, 'protected': False, 'followers_count': 1237386, 'friends_count': 1427, 'listed_count': 8945, 'created_at': 'Sun Mar 16 11:41:49 +0000 2008', 'favourites_count': 181, 'utc_offset': None, 'time_zone': None, 'geo_enabled': False, 'verified': True, 'statuses_count': 31854, 'lang': None, 'contributors_enabled': False, 'is_translator': False, 'is_translation_enabled': False, 'profile_background_color': 'FFFFFF', 'profile_background_image_url': 'http://abs.twimg.com/images/themes/theme1/bg.png', 'profile_background_image_url_https': 'https://abs.twimg.com/images/themes/theme1/bg.png', 'profile_background_tile': False, 'profile_image_url': 'http://pbs.twimg.com/profile_images/1180055085801443329/JAUJWMmN_normal.jpg', 'profile_image_url_https': 'https://pbs.twimg.com/profile_images/1180055085801443329/JAUJWMmN_normal.jpg', 'profile_banner_url': 'https://pbs.twimg.com/profile_banners/14157134/1619538125', 'profile_link_color': '1F527B', 'profile_sidebar_border_color': 'CCCCCC', 'profile_sidebar_fill_color': 'FFFFFF', 'profile_text_color': '5A5A5A', 'profile_use_background_image': False, 'has_extended_profile': False, 'default_profile': False, 'default_profile_image': False, 'following': False, 'follow_request_sent': False, 'notifications': False, 'translator_type': 'none', 'withheld_in_countries': []}, 'geo': None, 'coordinates': None, 'place': None, 'contributors': None, 'is_quote_status': False, 'retweet_count': 38, 'favorite_count': 172, 'favorited': False, 'retweeted': False, 'lang': 'en'}, 'is_quote_status': False, 'retweet_count': 38, 'favorite_count': 0, 'favorited': False, 'retweeted': False, 'lang': 'en'}, created_at=datetime.datetime(2022, 6, 7, 12, 24, 1), id=1534149177856376832, id_str='1534149177856376832', text='RT @Peston: For many, @uksciencechief became something of a hero for the way he helped protect us from #Covid_19. So @itvnews asked him: “w…', truncated=False, entities={'hashtags': [{'text': 'Covid_19', 'indices': [103, 112]}], 'symbols': [], 'user_mentions': [{'screen_name': 'Peston', 'name': 'Robert Peston', 'id': 14157134, 'id_str': '14157134', 'indices': [3, 10]}, {'screen_name': 'uksciencechief', 'name': 'Sir Patrick Vallance', 'id': 264124770, 'id_str': '264124770', 'indices': [22, 37]}, {'screen_name': 'itvnews', 'name': 'ITV News', 'id': 21866939, 'id_str': '21866939', 'indices': [117, 125]}], 'urls': []}, metadata={'iso_language_code': 'en', 'result_type': 'recent'}, source='Twitter for Android', source_url='http://twitter.com/download/android', in_reply_to_status_id=None, in_reply_to_status_id_str=None, in_reply_to_user_id=None, in_reply_to_user_id_str=None, in_reply_to_screen_name=None, author=User(_api=<tweepy.api.API object at 0x7f3a366ba510>, _json={'id': 1468551971519008773, 'id_str': '1468551971519008773', 'name': 'David Allan', 'screen_name': 'DavidAllan704', 'location': 'Oxfordshire', 'description': 'Principal Beamline Scientist, beamline I19, Diamond Light Source', 'url': None, 'entities': {'description': {'urls': []}}, 'protected': False, 'followers_count': 388, 'friends_count': 2876, 'listed_count': 0, 'created_at': 'Wed Dec 08 12:04:46 +0000 2021', 'favourites_count': 54129, 'utc_offset': None, 'time_zone': None, 'geo_enabled': False, 'verified': False, 'statuses_count': 4495, 'lang': None, 'contributors_enabled': False, 'is_translator': False, 'is_translation_enabled': False, 'profile_background_color': 'F5F8FA', 'profile_background_image_url': None, 'profile_background_image_url_https': None, 'profile_background_tile': False, 'profile_image_url': 'http://pbs.twimg.com/profile_images/1468552130172964864/5FVWDo0s_normal.jpg', 'profile_image_url_https': 'https://pbs.twimg.com/profile_images/1468552130172964864/5FVWDo0s_normal.jpg', 'profile_banner_url': 'https://pbs.twimg.com/profile_banners/1468551971519008773/1639563844', 'profile_link_color': '1DA1F2', 'profile_sidebar_border_color': 'C0DEED', 'profile_sidebar_fill_color': 'DDEEF6', 'profile_text_color': '333333', 'profile_use_background_image': True, 'has_extended_profile': True, 'default_profile': True, 'default_profile_image': False, 'following': False, 'follow_request_sent': False, 'notifications': False, 'translator_type': 'none', 'withheld_in_countries': []}, id=1468551971519008773, id_str='1468551971519008773', name='David Allan', screen_name='DavidAllan704', location='Oxfordshire', description='Principal Beamline Scientist, beamline I19, Diamond Light Source', url=None, entities={'description': {'urls': []}}, protected=False, followers_count=388, friends_count=2876, listed_count=0, created_at=datetime.datetime(2021, 12, 8, 12, 4, 46), favourites_count=54129, utc_offset=None, time_zone=None, geo_enabled=False, verified=False, statuses_count=4495, lang=None, contributors_enabled=False, is_translator=False, is_translation_enabled=False, profile_background_color='F5F8FA', profile_background_image_url=None, profile_background_image_url_https=None, profile_background_tile=False, profile_image_url='http://pbs.twimg.com/profile_images/1468552130172964864/5FVWDo0s_normal.jpg', profile_image_url_https='https://pbs.twimg.com/profile_images/1468552130172964864/5FVWDo0s_normal.jpg', profile_banner_url='https://pbs.twimg.com/profile_banners/1468551971519008773/1639563844', profile_link_color='1DA1F2', profile_sidebar_border_color='C0DEED', profile_sidebar_fill_color='DDEEF6', profile_text_color='333333', profile_use_background_image=True, has_extended_profile=True, default_profile=True, default_profile_image=False, following=False, follow_request_sent=False, notifications=False, translator_type='none', withheld_in_countries=[]), user=User(_api=<tweepy.api.API object at 0x7f3a366ba510>, _json={'id': 1468551971519008773, 'id_str': '1468551971519008773', 'name': 'David Allan', 'screen_name': 'DavidAllan704', 'location': 'Oxfordshire', 'description': 'Principal Beamline Scientist, beamline I19, Diamond Light Source', 'url': None, 'entities': {'description': {'urls': []}}, 'protected': False, 'followers_count': 388, 'friends_count': 2876, 'listed_count': 0, 'created_at': 'Wed Dec 08 12:04:46 +0000 2021', 'favourites_count': 54129, 'utc_offset': None, 'time_zone': None, 'geo_enabled': False, 'verified': False, 'statuses_count': 4495, 'lang': None, 'contributors_enabled': False, 'is_translator': False, 'is_translation_enabled': False, 'profile_background_color': 'F5F8FA', 'profile_background_image_url': None, 'profile_background_image_url_https': None, 'profile_background_tile': False, 'profile_image_url': 'http://pbs.twimg.com/profile_images/1468552130172964864/5FVWDo0s_normal.jpg', 'profile_image_url_https': 'https://pbs.twimg.com/profile_images/1468552130172964864/5FVWDo0s_normal.jpg', 'profile_banner_url': 'https://pbs.twimg.com/profile_banners/1468551971519008773/1639563844', 'profile_link_color': '1DA1F2', 'profile_sidebar_border_color': 'C0DEED', 'profile_sidebar_fill_color': 'DDEEF6', 'profile_text_color': '333333', 'profile_use_background_image': True, 'has_extended_profile': True, 'default_profile': True, 'default_profile_image': False, 'following': False, 'follow_request_sent': False, 'notifications': False, 'translator_type': 'none', 'withheld_in_countries': []}, id=1468551971519008773, id_str='1468551971519008773', name='David Allan', screen_name='DavidAllan704', location='Oxfordshire', description='Principal Beamline Scientist, beamline I19, Diamond Light Source', url=None, entities={'description': {'urls': []}}, protected=False, followers_count=388, friends_count=2876, listed_count=0, created_at=datetime.datetime(2021, 12, 8, 12, 4, 46), favourites_count=54129, utc_offset=None, time_zone=None, geo_enabled=False, verified=False, statuses_count=4495, lang=None, contributors_enabled=False, is_translator=False, is_translation_enabled=False, profile_background_color='F5F8FA', profile_background_image_url=None, profile_background_image_url_https=None, profile_background_tile=False, profile_image_url='http://pbs.twimg.com/profile_images/1468552130172964864/5FVWDo0s_normal.jpg', profile_image_url_https='https://pbs.twimg.com/profile_images/1468552130172964864/5FVWDo0s_normal.jpg', profile_banner_url='https://pbs.twimg.com/profile_banners/1468551971519008773/1639563844', profile_link_color='1DA1F2', profile_sidebar_border_color='C0DEED', profile_sidebar_fill_color='DDEEF6', profile_text_color='333333', profile_use_background_image=True, has_extended_profile=True, default_profile=True, default_profile_image=False, following=False, follow_request_sent=False, notifications=False, translator_type='none', withheld_in_countries=[]), geo=None, coordinates=None, place=None, contributors=None, retweeted_status=Status(_api=<tweepy.api.API object at 0x7f3a366ba510>, _json={'created_at': 'Tue Jun 07 12:05:26 +0000 2022', 'id': 1534144501874409472, 'id_str': '1534144501874409472', 'text': 'For many, @uksciencechief became something of a hero for the way he helped protect us from #Covid_19. So @itvnews a… https://t.co/D25kw8iJ2T', 'truncated': True, 'entities': {'hashtags': [{'text': 'Covid_19', 'indices': [91, 100]}], 'symbols': [], 'user_mentions': [{'screen_name': 'uksciencechief', 'name': 'Sir Patrick Vallance', 'id': 264124770, 'id_str': '264124770', 'indices': [10, 25]}, {'screen_name': 'itvnews', 'name': 'ITV News', 'id': 21866939, 'id_str': '21866939', 'indices': [105, 113]}], 'urls': [{'url': 'https://t.co/D25kw8iJ2T', 'expanded_url': 'https://twitter.com/i/web/status/1534144501874409472', 'display_url': 'twitter.com/i/web/status/1…', 'indices': [117, 140]}]}, 'metadata': {'iso_language_code': 'en', 'result_type': 'recent'}, 'source': '<a href=\"http://twitter.com/download/iphone\" rel=\"nofollow\">Twitter for iPhone</a>', 'in_reply_to_status_id': None, 'in_reply_to_status_id_str': None, 'in_reply_to_user_id': None, 'in_reply_to_user_id_str': None, 'in_reply_to_screen_name': None, 'user': {'id': 14157134, 'id_str': '14157134', 'name': 'Robert Peston', 'screen_name': 'Peston', 'location': '', 'description': 'ITV (pol ed), Speakers for Schools (founder), writer (WTF), Hospice UK (vice pres), Arsenal (East Stand), Peston (as in #Peston show, 10.45pm Weds). So?', 'url': 'https://t.co/KcrDn3jvur', 'entities': {'url': {'urls': [{'url': 'https://t.co/KcrDn3jvur', 'expanded_url': 'http://itv.com/robertpeston', 'display_url': 'itv.com/robertpeston', 'indices': [0, 23]}]}, 'description': {'urls': []}}, 'protected': False, 'followers_count': 1237386, 'friends_count': 1427, 'listed_count': 8945, 'created_at': 'Sun Mar 16 11:41:49 +0000 2008', 'favourites_count': 181, 'utc_offset': None, 'time_zone': None, 'geo_enabled': False, 'verified': True, 'statuses_count': 31854, 'lang': None, 'contributors_enabled': False, 'is_translator': False, 'is_translation_enabled': False, 'profile_background_color': 'FFFFFF', 'profile_background_image_url': 'http://abs.twimg.com/images/themes/theme1/bg.png', 'profile_background_image_url_https': 'https://abs.twimg.com/images/themes/theme1/bg.png', 'profile_background_tile': False, 'profile_image_url': 'http://pbs.twimg.com/profile_images/1180055085801443329/JAUJWMmN_normal.jpg', 'profile_image_url_https': 'https://pbs.twimg.com/profile_images/1180055085801443329/JAUJWMmN_normal.jpg', 'profile_banner_url': 'https://pbs.twimg.com/profile_banners/14157134/1619538125', 'profile_link_color': '1F527B', 'profile_sidebar_border_color': 'CCCCCC', 'profile_sidebar_fill_color': 'FFFFFF', 'profile_text_color': '5A5A5A', 'profile_use_background_image': False, 'has_extended_profile': False, 'default_profile': False, 'default_profile_image': False, 'following': False, 'follow_request_sent': False, 'notifications': False, 'translator_type': 'none', 'withheld_in_countries': []}, 'geo': None, 'coordinates': None, 'place': None, 'contributors': None, 'is_quote_status': False, 'retweet_count': 38, 'favorite_count': 172, 'favorited': False, 'retweeted': False, 'lang': 'en'}, created_at=datetime.datetime(2022, 6, 7, 12, 5, 26), id=1534144501874409472, id_str='1534144501874409472', text='For many, @uksciencechief became something of a hero for the way he helped protect us from #Covid_19. So @itvnews a… https://t.co/D25kw8iJ2T', truncated=True, entities={'hashtags': [{'text': 'Covid_19', 'indices': [91, 100]}], 'symbols': [], 'user_mentions': [{'screen_name': 'uksciencechief', 'name': 'Sir Patrick Vallance', 'id': 264124770, 'id_str': '264124770', 'indices': [10, 25]}, {'screen_name': 'itvnews', 'name': 'ITV News', 'id': 21866939, 'id_str': '21866939', 'indices': [105, 113]}], 'urls': [{'url': 'https://t.co/D25kw8iJ2T', 'expanded_url': 'https://twitter.com/i/web/status/1534144501874409472', 'display_url': 'twitter.com/i/web/status/1…', 'indices': [117, 140]}]}, metadata={'iso_language_code': 'en', 'result_type': 'recent'}, source='Twitter for iPhone', source_url='http://twitter.com/download/iphone', in_reply_to_status_id=None, in_reply_to_status_id_str=None, in_reply_to_user_id=None, in_reply_to_user_id_str=None, in_reply_to_screen_name=None, author=User(_api=<tweepy.api.API object at 0x7f3a366ba510>, _json={'id': 14157134, 'id_str': '14157134', 'name': 'Robert Peston', 'screen_name': 'Peston', 'location': '', 'description': 'ITV (pol ed), Speakers for Schools (founder), writer (WTF), Hospice UK (vice pres), Arsenal (East Stand), Peston (as in #Peston show, 10.45pm Weds). So?', 'url': 'https://t.co/KcrDn3jvur', 'entities': {'url': {'urls': [{'url': 'https://t.co/KcrDn3jvur', 'expanded_url': 'http://itv.com/robertpeston', 'display_url': 'itv.com/robertpeston', 'indices': [0, 23]}]}, 'description': {'urls': []}}, 'protected': False, 'followers_count': 1237386, 'friends_count': 1427, 'listed_count': 8945, 'created_at': 'Sun Mar 16 11:41:49 +0000 2008', 'favourites_count': 181, 'utc_offset': None, 'time_zone': None, 'geo_enabled': False, 'verified': True, 'statuses_count': 31854, 'lang': None, 'contributors_enabled': False, 'is_translator': False, 'is_translation_enabled': False, 'profile_background_color': 'FFFFFF', 'profile_background_image_url': 'http://abs.twimg.com/images/themes/theme1/bg.png', 'profile_background_image_url_https': 'https://abs.twimg.com/images/themes/theme1/bg.png', 'profile_background_tile': False, 'profile_image_url': 'http://pbs.twimg.com/profile_images/1180055085801443329/JAUJWMmN_normal.jpg', 'profile_image_url_https': 'https://pbs.twimg.com/profile_images/1180055085801443329/JAUJWMmN_normal.jpg', 'profile_banner_url': 'https://pbs.twimg.com/profile_banners/14157134/1619538125', 'profile_link_color': '1F527B', 'profile_sidebar_border_color': 'CCCCCC', 'profile_sidebar_fill_color': 'FFFFFF', 'profile_text_color': '5A5A5A', 'profile_use_background_image': False, 'has_extended_profile': False, 'default_profile': False, 'default_profile_image': False, 'following': False, 'follow_request_sent': False, 'notifications': False, 'translator_type': 'none', 'withheld_in_countries': []}, id=14157134, id_str='14157134', name='Robert Peston', screen_name='Peston', location='', description='ITV (pol ed), Speakers for Schools (founder), writer (WTF), Hospice UK (vice pres), Arsenal (East Stand), Peston (as in #Peston show, 10.45pm Weds). So?', url='https://t.co/KcrDn3jvur', entities={'url': {'urls': [{'url': 'https://t.co/KcrDn3jvur', 'expanded_url': 'http://itv.com/robertpeston', 'display_url': 'itv.com/robertpeston', 'indices': [0, 23]}]}, 'description': {'urls': []}}, protected=False, followers_count=1237386, friends_count=1427, listed_count=8945, created_at=datetime.datetime(2008, 3, 16, 11, 41, 49), favourites_count=181, utc_offset=None, time_zone=None, geo_enabled=False, verified=True, statuses_count=31854, lang=None, contributors_enabled=False, is_translator=False, is_translation_enabled=False, profile_background_color='FFFFFF', profile_background_image_url='http://abs.twimg.com/images/themes/theme1/bg.png', profile_background_image_url_https='https://abs.twimg.com/images/themes/theme1/bg.png', profile_background_tile=False, profile_image_url='http://pbs.twimg.com/profile_images/1180055085801443329/JAUJWMmN_normal.jpg', profile_image_url_https='https://pbs.twimg.com/profile_images/1180055085801443329/JAUJWMmN_normal.jpg', profile_banner_url='https://pbs.twimg.com/profile_banners/14157134/1619538125', profile_link_color='1F527B', profile_sidebar_border_color='CCCCCC', profile_sidebar_fill_color='FFFFFF', profile_text_color='5A5A5A', profile_use_background_image=False, has_extended_profile=False, default_profile=False, default_profile_image=False, following=False, follow_request_sent=False, notifications=False, translator_type='none', withheld_in_countries=[]), user=User(_api=<tweepy.api.API object at 0x7f3a366ba510>, _json={'id': 14157134, 'id_str': '14157134', 'name': 'Robert Peston', 'screen_name': 'Peston', 'location': '', 'description': 'ITV (pol ed), Speakers for Schools (founder), writer (WTF), Hospice UK (vice pres), Arsenal (East Stand), Peston (as in #Peston show, 10.45pm Weds). So?', 'url': 'https://t.co/KcrDn3jvur', 'entities': {'url': {'urls': [{'url': 'https://t.co/KcrDn3jvur', 'expanded_url': 'http://itv.com/robertpeston', 'display_url': 'itv.com/robertpeston', 'indices': [0, 23]}]}, 'description': {'urls': []}}, 'protected': False, 'followers_count': 1237386, 'friends_count': 1427, 'listed_count': 8945, 'created_at': 'Sun Mar 16 11:41:49 +0000 2008', 'favourites_count': 181, 'utc_offset': None, 'time_zone': None, 'geo_enabled': False, 'verified': True, 'statuses_count': 31854, 'lang': None, 'contributors_enabled': False, 'is_translator': False, 'is_translation_enabled': False, 'profile_background_color': 'FFFFFF', 'profile_background_image_url': 'http://abs.twimg.com/images/themes/theme1/bg.png', 'profile_background_image_url_https': 'https://abs.twimg.com/images/themes/theme1/bg.png', 'profile_background_tile': False, 'profile_image_url': 'http://pbs.twimg.com/profile_images/1180055085801443329/JAUJWMmN_normal.jpg', 'profile_image_url_https': 'https://pbs.twimg.com/profile_images/1180055085801443329/JAUJWMmN_normal.jpg', 'profile_banner_url': 'https://pbs.twimg.com/profile_banners/14157134/1619538125', 'profile_link_color': '1F527B', 'profile_sidebar_border_color': 'CCCCCC', 'profile_sidebar_fill_color': 'FFFFFF', 'profile_text_color': '5A5A5A', 'profile_use_background_image': False, 'has_extended_profile': False, 'default_profile': False, 'default_profile_image': False, 'following': False, 'follow_request_sent': False, 'notifications': False, 'translator_type': 'none', 'withheld_in_countries': []}, id=14157134, id_str='14157134', name='Robert Peston', screen_name='Peston', location='', description='ITV (pol ed), Speakers for Schools (founder), writer (WTF), Hospice UK (vice pres), Arsenal (East Stand), Peston (as in #Peston show, 10.45pm Weds). So?', url='https://t.co/KcrDn3jvur', entities={'url': {'urls': [{'url': 'https://t.co/KcrDn3jvur', 'expanded_url': 'http://itv.com/robertpeston', 'display_url': 'itv.com/robertpeston', 'indices': [0, 23]}]}, 'description': {'urls': []}}, protected=False, followers_count=1237386, friends_count=1427, listed_count=8945, created_at=datetime.datetime(2008, 3, 16, 11, 41, 49), favourites_count=181, utc_offset=None, time_zone=None, geo_enabled=False, verified=True, statuses_count=31854, lang=None, contributors_enabled=False, is_translator=False, is_translation_enabled=False, profile_background_color='FFFFFF', profile_background_image_url='http://abs.twimg.com/images/themes/theme1/bg.png', profile_background_image_url_https='https://abs.twimg.com/images/themes/theme1/bg.png', profile_background_tile=False, profile_image_url='http://pbs.twimg.com/profile_images/1180055085801443329/JAUJWMmN_normal.jpg', profile_image_url_https='https://pbs.twimg.com/profile_images/1180055085801443329/JAUJWMmN_normal.jpg', profile_banner_url='https://pbs.twimg.com/profile_banners/14157134/1619538125', profile_link_color='1F527B', profile_sidebar_border_color='CCCCCC', profile_sidebar_fill_color='FFFFFF', profile_text_color='5A5A5A', profile_use_background_image=False, has_extended_profile=False, default_profile=False, default_profile_image=False, following=False, follow_request_sent=False, notifications=False, translator_type='none', withheld_in_countries=[]), geo=None, coordinates=None, place=None, contributors=None, is_quote_status=False, retweet_count=38, favorite_count=172, favorited=False, retweeted=False, lang='en'), is_quote_status=False, retweet_count=38, favorite_count=0, favorited=False, retweeted=False, lang='en')"
            ]
          },
          "metadata": {},
          "execution_count": 30
        }
      ]
    },
    {
      "cell_type": "markdown",
      "source": [
        "Status(_api=<tweepy.api.API object at 0x7f3a366ba510>, _json={'created_at': 'Tue Jun 07 12:24:01 +0000 2022', 'id': 1534149177856376832, 'id_str': '1534149177856376832', 'text': 'RT @Peston: For many, @uksciencechief became something of a hero for the way he helped protect us from #Covid_19. So @itvnews asked him: “w…', 'truncated': False, 'entities': {'hashtags': [{'text': 'Covid_19', 'indices': [103, 112]}], 'symbols': [], 'user_mentions': [{'screen_name': 'Peston', 'name': 'Robert Peston', 'id': 14157134, 'id_str': '14157134', 'indices': [3, 10]}, {'screen_name': 'uksciencechief', 'name': 'Sir Patrick Vallance', 'id': 264124770, 'id_str': '264124770', 'indices': [22, 37]}, {'screen_name': 'itvnews', 'name': 'ITV News', 'id': 21866939, 'id_str': '21866939', 'indices': [117, 125]}], 'urls': []}, 'metadata': {'iso_language_code': 'en', 'result_type': 'recent'}, 'source': '<a href=\"http://twitter.com/download/android\" rel=\"nofollow\">Twitter for Android</a>', 'in_reply_to_status_id': None, 'in_reply_to_status_id_str': None, 'in_reply_to_user_id': None, 'in_reply_to_user_id_str': None, 'in_reply_to_screen_name': None, 'user': {'id': 1468551971519008773, 'id_str': '1468551971519008773', 'name': 'David Allan', 'screen_name': 'DavidAllan704', 'location': 'Oxfordshire', 'description': 'Principal Beamline Scientist, beamline I19, Diamond Light Source', 'url': None, 'entities': {'description': {'urls': []}}, 'protected': False, 'followers_count': 388, 'friends_count': 2876, 'listed_count': 0, 'created_at': 'Wed Dec 08 12:04:46 +0000 2021', 'favourites_count': 54129, 'utc_offset': None, 'time_zone': None, 'geo_enabled': False, 'verified': False, 'statuses_count': 4495, 'lang': None, 'contributors_enabled': False, 'is_translator': False, 'is_translation_enabled': False, 'profile_background_color': 'F5F8FA', 'profile_background_image_url': None, 'profile_background_image_url_https': None, 'profile_background_tile': False, 'profile_image_url': 'http://pbs.twimg.com/profile_images/1468552130172964864/5FVWDo0s_normal.jpg', 'profile_image_url_https': 'https://pbs.twimg.com/profile_images/1468552130172964864/5FVWDo0s_normal.jpg', 'profile_banner_url': 'https://pbs.twimg.com/profile_banners/1468551971519008773/1639563844', 'profile_link_color': '1DA1F2', 'profile_sidebar_border_color': 'C0DEED', 'profile_sidebar_fill_color': 'DDEEF6', 'profile_text_color': '333333', 'profile_use_background_image': True, 'has_extended_profile': True, 'default_profile': True, 'default_profile_image': False, 'following': False, 'follow_request_sent': False, 'notifications': False, 'translator_type': 'none', 'withheld_in_countries': []}, 'geo': None, 'coordinates': None, 'place': None, 'contributors': None, 'retweeted_status': {'created_at': 'Tue Jun 07 12:05:26 +0000 2022', 'id': 1534144501874409472, 'id_str': '1534144501874409472', 'text': 'For many, @uksciencechief became something of a hero for the way he helped protect us from #Covid_19. So @itvnews a… https://t.co/D25kw8iJ2T', 'truncated': True, 'entities': {'hashtags': [{'text': 'Covid_19', 'indices': [91, 100]}], 'symbols': [], 'user_mentions': [{'screen_name': 'uksciencechief', 'name': 'Sir Patrick Vallance', 'id': 264124770, 'id_str': '264124770', 'indices': [10, 25]}, {'screen_name': 'itvnews', 'name': 'ITV News', 'id': 21866939, 'id_str': '21866939', 'indices': [105, 113]}], 'urls': [{'url': 'https://t.co/D25kw8iJ2T', 'expanded_url': 'https://twitter.com/i/web/status/1534144501874409472', 'display_url': 'twitter.com/i/web/status/1…', 'indices': [117, 140]}]}, 'metadata': {'iso_language_code': 'en', 'result_type': 'recent'}, 'source': '<a href=\"http://twitter.com/download/iphone\" rel=\"nofollow\">Twitter for iPhone</a>', 'in_reply_to_status_id': None, 'in_reply_to_status_id_str': None, 'in_reply_to_user_id': None, 'in_reply_to_user_id_str': None, 'in_reply_to_screen_name': None, 'user': {'id': 14157134, 'id_str': '14157134', 'name': 'Robert Peston', 'screen_name': 'Peston', 'location': '', 'description': 'ITV (pol ed), Speakers for Schools (founder), writer (WTF), Hospice UK (vice pres), Arsenal (East Stand), Peston (as in #Peston show, 10.45pm Weds). So?', 'url': 'https://t.co/KcrDn3jvur', 'entities': {'url': {'urls': [{'url': 'https://t.co/KcrDn3jvur', 'expanded_url': 'http://itv.com/robertpeston', 'display_url': 'itv.com/robertpeston', 'indices': [0, 23]}]}, 'description': {'urls': []}}, 'protected': False, 'followers_count': 1237386, 'friends_count': 1427, 'listed_count': 8945, 'created_at': 'Sun Mar 16 11:41:49 +0000 2008', 'favourites_count': 181, 'utc_offset': None, 'time_zone': None, 'geo_enabled': False, 'verified': True, 'statuses_count': 31854, 'lang': None, 'contributors_enabled': False, 'is_translator': False, 'is_translation_enabled': False, 'profile_background_color': 'FFFFFF', 'profile_background_image_url': 'http://abs.twimg.com/images/themes/theme1/bg.png', 'profile_background_image_url_https': 'https://abs.twimg.com/images/themes/theme1/bg.png', 'profile_background_tile': False, 'profile_image_url': 'http://pbs.twimg.com/profile_images/1180055085801443329/JAUJWMmN_normal.jpg', 'profile_image_url_https': 'https://pbs.twimg.com/profile_images/1180055085801443329/JAUJWMmN_normal.jpg', 'profile_banner_url': 'https://pbs.twimg.com/profile_banners/14157134/1619538125', 'profile_link_color': '1F527B', 'profile_sidebar_border_color': 'CCCCCC', 'profile_sidebar_fill_color': 'FFFFFF', 'profile_text_color': '5A5A5A', 'profile_use_background_image': False, 'has_extended_profile': False, 'default_profile': False, 'default_profile_image': False, 'following': False, 'follow_request_sent': False, 'notifications': False, 'translator_type': 'none', 'withheld_in_countries': []}, 'geo': None, 'coordinates': None, 'place': None, 'contributors': None, 'is_quote_status': False, 'retweet_count': 38, 'favorite_count': 172, 'favorited': False, 'retweeted': False, 'lang': 'en'}, 'is_quote_status': False, 'retweet_count': 38, 'favorite_count': 0, 'favorited': False, 'retweeted': False, 'lang': 'en'}, created_at=datetime.datetime(2022, 6, 7, 12, 24, 1), id=1534149177856376832, id_str='1534149177856376832', text='RT @Peston: For many, @uksciencechief became something of a hero for the way he helped protect us from #Covid_19. So @itvnews asked him: “w…', truncated=False, entities={'hashtags': [{'text': 'Covid_19', 'indices': [103, 112]}], 'symbols': [], 'user_mentions': [{'screen_name': 'Peston', 'name': 'Robert Peston', 'id': 14157134, 'id_str': '14157134', 'indices': [3, 10]}, {'screen_name': 'uksciencechief', 'name': 'Sir Patrick Vallance', 'id': 264124770, 'id_str': '264124770', 'indices': [22, 37]}, {'screen_name': 'itvnews', 'name': 'ITV News', 'id': 21866939, 'id_str': '21866939', 'indices': [117, 125]}], 'urls': []}, metadata={'iso_language_code': 'en', 'result_type': 'recent'}, source='Twitter for Android', source_url='http://twitter.com/download/android', in_reply_to_status_id=None, in_reply_to_status_id_str=None, in_reply_to_user_id=None, in_reply_to_user_id_str=None, in_reply_to_screen_name=None, author=User(_api=<tweepy.api.API object at 0x7f3a366ba510>, _json={'id': 1468551971519008773, 'id_str': '1468551971519008773', 'name': 'David Allan', 'screen_name': 'DavidAllan704', 'location': 'Oxfordshire', 'description': 'Principal Beamline Scientist, beamline I19, Diamond Light Source', 'url': None, 'entities': {'description': {'urls': []}}, 'protected': False, 'followers_count': 388, 'friends_count': 2876, 'listed_count': 0, 'created_at': 'Wed Dec 08 12:04:46 +0000 2021', 'favourites_count': 54129, 'utc_offset': None, 'time_zone': None, 'geo_enabled': False, 'verified': False, 'statuses_count': 4495, 'lang': None, 'contributors_enabled': False, 'is_translator': False, 'is_translation_enabled': False, 'profile_background_color': 'F5F8FA', 'profile_background_image_url': None, 'profile_background_image_url_https': None, 'profile_background_tile': False, 'profile_image_url': 'http://pbs.twimg.com/profile_images/1468552130172964864/5FVWDo0s_normal.jpg', 'profile_image_url_https': 'https://pbs.twimg.com/profile_images/1468552130172964864/5FVWDo0s_normal.jpg', 'profile_banner_url': 'https://pbs.twimg.com/profile_banners/1468551971519008773/1639563844', 'profile_link_color': '1DA1F2', 'profile_sidebar_border_color': 'C0DEED', 'profile_sidebar_fill_color': 'DDEEF6', 'profile_text_color': '333333', 'profile_use_background_image': True, 'has_extended_profile': True, 'default_profile': True, 'default_profile_image': False, 'following': False, 'follow_request_sent': False, 'notifications': False, 'translator_type': 'none', 'withheld_in_countries': []}, id=1468551971519008773, id_str='1468551971519008773', name='David Allan', screen_name='DavidAllan704', location='Oxfordshire', description='Principal Beamline Scientist, beamline I19, Diamond Light Source', url=None, entities={'description': {'urls': []}}, protected=False, followers_count=388, friends_count=2876, listed_count=0, created_at=datetime.datetime(2021, 12, 8, 12, 4, 46), favourites_count=54129, utc_offset=None, time_zone=None, geo_enabled=False, verified=False, statuses_count=4495, lang=None, contributors_enabled=False, is_translator=False, is_translation_enabled=False, profile_background_color='F5F8FA', profile_background_image_url=None, profile_background_image_url_https=None, profile_background_tile=False, profile_image_url='http://pbs.twimg.com/profile_images/1468552130172964864/5FVWDo0s_normal.jpg', profile_image_url_https='https://pbs.twimg.com/profile_images/1468552130172964864/5FVWDo0s_normal.jpg', profile_banner_url='https://pbs.twimg.com/profile_banners/1468551971519008773/1639563844', profile_link_color='1DA1F2', profile_sidebar_border_color='C0DEED', profile_sidebar_fill_color='DDEEF6', profile_text_color='333333', profile_use_background_image=True, has_extended_profile=True, default_profile=True, default_profile_image=False, following=False, follow_request_sent=False, notifications=False, translator_type='none', withheld_in_countries=[]), user=User(_api=<tweepy.api.API object at 0x7f3a366ba510>, _json={'id': 1468551971519008773, 'id_str': '1468551971519008773', 'name': 'David Allan', 'screen_name': 'DavidAllan704', 'location': 'Oxfordshire', 'description': 'Principal Beamline Scientist, beamline I19, Diamond Light Source', 'url': None, 'entities': {'description': {'urls': []}}, 'protected': False, 'followers_count': 388, 'friends_count': 2876, 'listed_count': 0, 'created_at': 'Wed Dec 08 12:04:46 +0000 2021', 'favourites_count': 54129, 'utc_offset': None, 'time_zone': None, 'geo_enabled': False, 'verified': False, 'statuses_count': 4495, 'lang': None, 'contributors_enabled': False, 'is_translator': False, 'is_translation_enabled': False, 'profile_background_color': 'F5F8FA', 'profile_background_image_url': None, 'profile_background_image_url_https': None, 'profile_background_tile': False, 'profile_image_url': 'http://pbs.twimg.com/profile_images/1468552130172964864/5FVWDo0s_normal.jpg', 'profile_image_url_https': 'https://pbs.twimg.com/profile_images/1468552130172964864/5FVWDo0s_normal.jpg', 'profile_banner_url': 'https://pbs.twimg.com/profile_banners/1468551971519008773/1639563844', 'profile_link_color': '1DA1F2', 'profile_sidebar_border_color': 'C0DEED', 'profile_sidebar_fill_color': 'DDEEF6', 'profile_text_color': '333333', 'profile_use_background_image': True, 'has_extended_profile': True, 'default_profile': True, 'default_profile_image': False, 'following': False, 'follow_request_sent': False, 'notifications': False, 'translator_type': 'none', 'withheld_in_countries': []}, id=1468551971519008773, id_str='1468551971519008773', name='David Allan', screen_name='DavidAllan704', location='Oxfordshire', description='Principal Beamline Scientist, beamline I19, Diamond Light Source', url=None, entities={'description': {'urls': []}}, protected=False, followers_count=388, friends_count=2876, listed_count=0, created_at=datetime.datetime(2021, 12, 8, 12, 4, 46), favourites_count=54129, utc_offset=None, time_zone=None, geo_enabled=False, verified=False, statuses_count=4495, lang=None, contributors_enabled=False, is_translator=False, is_translation_enabled=False, profile_background_color='F5F8FA', profile_background_image_url=None, profile_background_image_url_https=None, profile_background_tile=False, profile_image_url='http://pbs.twimg.com/profile_images/1468552130172964864/5FVWDo0s_normal.jpg', profile_image_url_https='https://pbs.twimg.com/profile_images/1468552130172964864/5FVWDo0s_normal.jpg', profile_banner_url='https://pbs.twimg.com/profile_banners/1468551971519008773/1639563844', profile_link_color='1DA1F2', profile_sidebar_border_color='C0DEED', profile_sidebar_fill_color='DDEEF6', profile_text_color='333333', profile_use_background_image=True, has_extended_profile=True, default_profile=True, default_profile_image=False, following=False, follow_request_sent=False, notifications=False, translator_type='none', withheld_in_countries=[]), geo=None, coordinates=None, place=None, contributors=None, retweeted_status=Status(_api=<tweepy.api.API object at 0x7f3a366ba510>, _json={'created_at': 'Tue Jun 07 12:05:26 +0000 2022', 'id': 1534144501874409472, 'id_str': '1534144501874409472', 'text': 'For many, @uksciencechief became something of a hero for the way he helped protect us from #Covid_19. So @itvnews a… https://t.co/D25kw8iJ2T', 'truncated': True, 'entities': {'hashtags': [{'text': 'Covid_19', 'indices': [91, 100]}], 'symbols': [], 'user_mentions': [{'screen_name': 'uksciencechief', 'name': 'Sir Patrick Vallance', 'id': 264124770, 'id_str': '264124770', 'indices': [10, 25]}, {'screen_name': 'itvnews', 'name': 'ITV News', 'id': 21866939, 'id_str': '21866939', 'indices': [105, 113]}], 'urls': [{'url': 'https://t.co/D25kw8iJ2T', 'expanded_url': 'https://twitter.com/i/web/status/1534144501874409472', 'display_url': 'twitter.com/i/web/status/1…', 'indices': [117, 140]}]}, 'metadata': {'iso_language_code': 'en', 'result_type': 'recent'}, 'source': '<a href=\"http://twitter.com/download/iphone\" rel=\"nofollow\">Twitter for iPhone</a>', 'in_reply_to_status_id': None, 'in_reply_to_status_id_str': None, 'in_reply_to_user_id': None, 'in_reply_to_user_id_str': None, 'in_reply_to_screen_name': None, 'user': {'id': 14157134, 'id_str': '14157134', 'name': 'Robert Peston', 'screen_name': 'Peston', 'location': '', 'description': 'ITV (pol ed), Speakers for Schools (founder), writer (WTF), Hospice UK (vice pres), Arsenal (East Stand), Peston (as in #Peston show, 10.45pm Weds). So?', 'url': 'https://t.co/KcrDn3jvur', 'entities': {'url': {'urls': [{'url': 'https://t.co/KcrDn3jvur', 'expanded_url': 'http://itv.com/robertpeston', 'display_url': 'itv.com/robertpeston', 'indices': [0, 23]}]}, 'description': {'urls': []}}, 'protected': False, 'followers_count': 1237386, 'friends_count': 1427, 'listed_count': 8945, 'created_at': 'Sun Mar 16 11:41:49 +0000 2008', 'favourites_count': 181, 'utc_offset': None, 'time_zone': None, 'geo_enabled': False, 'verified': True, 'statuses_count': 31854, 'lang': None, 'contributors_enabled': False, 'is_translator': False, 'is_translation_enabled': False, 'profile_background_color': 'FFFFFF', 'profile_background_image_url': 'http://abs.twimg.com/images/themes/theme1/bg.png', 'profile_background_image_url_https': 'https://abs.twimg.com/images/themes/theme1/bg.png', 'profile_background_tile': False, 'profile_image_url': 'http://pbs.twimg.com/profile_images/1180055085801443329/JAUJWMmN_normal.jpg', 'profile_image_url_https': 'https://pbs.twimg.com/profile_images/1180055085801443329/JAUJWMmN_normal.jpg', 'profile_banner_url': 'https://pbs.twimg.com/profile_banners/14157134/1619538125', 'profile_link_color': '1F527B', 'profile_sidebar_border_color': 'CCCCCC', 'profile_sidebar_fill_color': 'FFFFFF', 'profile_text_color': '5A5A5A', 'profile_use_background_image': False, 'has_extended_profile': False, 'default_profile': False, 'default_profile_image': False, 'following': False, 'follow_request_sent': False, 'notifications': False, 'translator_type': 'none', 'withheld_in_countries': []}, 'geo': None, 'coordinates': None, 'place': None, 'contributors': None, 'is_quote_status': False, 'retweet_count': 38, 'favorite_count': 172, 'favorited': False, 'retweeted': False, 'lang': 'en'}, created_at=datetime.datetime(2022, 6, 7, 12, 5, 26), id=1534144501874409472, id_str='1534144501874409472', text='For many, @uksciencechief became something of a hero for the way he helped protect us from #Covid_19. So @itvnews a… https://t.co/D25kw8iJ2T', truncated=True, entities={'hashtags': [{'text': 'Covid_19', 'indices': [91, 100]}], 'symbols': [], 'user_mentions': [{'screen_name': 'uksciencechief', 'name': 'Sir Patrick Vallance', 'id': 264124770, 'id_str': '264124770', 'indices': [10, 25]}, {'screen_name': 'itvnews', 'name': 'ITV News', 'id': 21866939, 'id_str': '21866939', 'indices': [105, 113]}], 'urls': [{'url': 'https://t.co/D25kw8iJ2T', 'expanded_url': 'https://twitter.com/i/web/status/1534144501874409472', 'display_url': 'twitter.com/i/web/status/1…', 'indices': [117, 140]}]}, metadata={'iso_language_code': 'en', 'result_type': 'recent'}, source='Twitter for iPhone', source_url='http://twitter.com/download/iphone', in_reply_to_status_id=None, in_reply_to_status_id_str=None, in_reply_to_user_id=None, in_reply_to_user_id_str=None, in_reply_to_screen_name=None, author=User(_api=<tweepy.api.API object at 0x7f3a366ba510>, _json={'id': 14157134, 'id_str': '14157134', 'name': 'Robert Peston', 'screen_name': 'Peston', 'location': '', 'description': 'ITV (pol ed), Speakers for Schools (founder), writer (WTF), Hospice UK (vice pres), Arsenal (East Stand), Peston (as in #Peston show, 10.45pm Weds). So?', 'url': 'https://t.co/KcrDn3jvur', 'entities': {'url': {'urls': [{'url': 'https://t.co/KcrDn3jvur', 'expanded_url': 'http://itv.com/robertpeston', 'display_url': 'itv.com/robertpeston', 'indices': [0, 23]}]}, 'description': {'urls': []}}, 'protected': False, 'followers_count': 1237386, 'friends_count': 1427, 'listed_count': 8945, 'created_at': 'Sun Mar 16 11:41:49 +0000 2008', 'favourites_count': 181, 'utc_offset': None, 'time_zone': None, 'geo_enabled': False, 'verified': True, 'statuses_count': 31854, 'lang': None, 'contributors_enabled': False, 'is_translator': False, 'is_translation_enabled': False, 'profile_background_color': 'FFFFFF', 'profile_background_image_url': 'http://abs.twimg.com/images/themes/theme1/bg.png', 'profile_background_image_url_https': 'https://abs.twimg.com/images/themes/theme1/bg.png', 'profile_background_tile': False, 'profile_image_url': 'http://pbs.twimg.com/profile_images/1180055085801443329/JAUJWMmN_normal.jpg', 'profile_image_url_https': 'https://pbs.twimg.com/profile_images/1180055085801443329/JAUJWMmN_normal.jpg', 'profile_banner_url': 'https://pbs.twimg.com/profile_banners/14157134/1619538125', 'profile_link_color': '1F527B', 'profile_sidebar_border_color': 'CCCCCC', 'profile_sidebar_fill_color': 'FFFFFF', 'profile_text_color': '5A5A5A', 'profile_use_background_image': False, 'has_extended_profile': False, 'default_profile': False, 'default_profile_image': False, 'following': False, 'follow_request_sent': False, 'notifications': False, 'translator_type': 'none', 'withheld_in_countries': []}, id=14157134, id_str='14157134', name='Robert Peston', screen_name='Peston', location='', description='ITV (pol ed), Speakers for Schools (founder), writer (WTF), Hospice UK (vice pres), Arsenal (East Stand), Peston (as in #Peston show, 10.45pm Weds). So?', url='https://t.co/KcrDn3jvur', entities={'url': {'urls': [{'url': 'https://t.co/KcrDn3jvur', 'expanded_url': 'http://itv.com/robertpeston', 'display_url': 'itv.com/robertpeston', 'indices': [0, 23]}]}, 'description': {'urls': []}}, protected=False, followers_count=1237386, friends_count=1427, listed_count=8945, created_at=datetime.datetime(2008, 3, 16, 11, 41, 49), favourites_count=181, utc_offset=None, time_zone=None, geo_enabled=False, verified=True, statuses_count=31854, lang=None, contributors_enabled=False, is_translator=False, is_translation_enabled=False, profile_background_color='FFFFFF', profile_background_image_url='http://abs.twimg.com/images/themes/theme1/bg.png', profile_background_image_url_https='https://abs.twimg.com/images/themes/theme1/bg.png', profile_background_tile=False, profile_image_url='http://pbs.twimg.com/profile_images/1180055085801443329/JAUJWMmN_normal.jpg', profile_image_url_https='https://pbs.twimg.com/profile_images/1180055085801443329/JAUJWMmN_normal.jpg', profile_banner_url='https://pbs.twimg.com/profile_banners/14157134/1619538125', profile_link_color='1F527B', profile_sidebar_border_color='CCCCCC', profile_sidebar_fill_color='FFFFFF', profile_text_color='5A5A5A', profile_use_background_image=False, has_extended_profile=False, default_profile=False, default_profile_image=False, following=False, follow_request_sent=False, notifications=False, translator_type='none', withheld_in_countries=[]), user=User(_api=<tweepy.api.API object at 0x7f3a366ba510>, _json={'id': 14157134, 'id_str': '14157134', 'name': 'Robert Peston', 'screen_name': 'Peston', 'location': '', 'description': 'ITV (pol ed), Speakers for Schools (founder), writer (WTF), Hospice UK (vice pres), Arsenal (East Stand), Peston (as in #Peston show, 10.45pm Weds). So?', 'url': 'https://t.co/KcrDn3jvur', 'entities': {'url': {'urls': [{'url': 'https://t.co/KcrDn3jvur', 'expanded_url': 'http://itv.com/robertpeston', 'display_url': 'itv.com/robertpeston', 'indices': [0, 23]}]}, 'description': {'urls': []}}, 'protected': False, 'followers_count': 1237386, 'friends_count': 1427, 'listed_count': 8945, 'created_at': 'Sun Mar 16 11:41:49 +0000 2008', 'favourites_count': 181, 'utc_offset': None, 'time_zone': None, 'geo_enabled': False, 'verified': True, 'statuses_count': 31854, 'lang': None, 'contributors_enabled': False, 'is_translator': False, 'is_translation_enabled': False, 'profile_background_color': 'FFFFFF', 'profile_background_image_url': 'http://abs.twimg.com/images/themes/theme1/bg.png', 'profile_background_image_url_https': 'https://abs.twimg.com/images/themes/theme1/bg.png', 'profile_background_tile': False, 'profile_image_url': 'http://pbs.twimg.com/profile_images/1180055085801443329/JAUJWMmN_normal.jpg', 'profile_image_url_https': 'https://pbs.twimg.com/profile_images/1180055085801443329/JAUJWMmN_normal.jpg', 'profile_banner_url': 'https://pbs.twimg.com/profile_banners/14157134/1619538125', 'profile_link_color': '1F527B', 'profile_sidebar_border_color': 'CCCCCC', 'profile_sidebar_fill_color': 'FFFFFF', 'profile_text_color': '5A5A5A', 'profile_use_background_image': False, 'has_extended_profile': False, 'default_profile': False, 'default_profile_image': False, 'following': False, 'follow_request_sent': False, 'notifications': False, 'translator_type': 'none', 'withheld_in_countries': []}, id=14157134, id_str='14157134', name='Robert Peston', screen_name='Peston', location='', description='ITV (pol ed), Speakers for Schools (founder), writer (WTF), Hospice UK (vice pres), Arsenal (East Stand), Peston (as in #Peston show, 10.45pm Weds). So?', url='https://t.co/KcrDn3jvur', entities={'url': {'urls': [{'url': 'https://t.co/KcrDn3jvur', 'expanded_url': 'http://itv.com/robertpeston', 'display_url': 'itv.com/robertpeston', 'indices': [0, 23]}]}, 'description': {'urls': []}}, protected=False, followers_count=1237386, friends_count=1427, listed_count=8945, created_at=datetime.datetime(2008, 3, 16, 11, 41, 49), favourites_count=181, utc_offset=None, time_zone=None, geo_enabled=False, verified=True, statuses_count=31854, lang=None, contributors_enabled=False, is_translator=False, is_translation_enabled=False, profile_background_color='FFFFFF', profile_background_image_url='http://abs.twimg.com/images/themes/theme1/bg.png', profile_background_image_url_https='https://abs.twimg.com/images/themes/theme1/bg.png', profile_background_tile=False, profile_image_url='http://pbs.twimg.com/profile_images/1180055085801443329/JAUJWMmN_normal.jpg', profile_image_url_https='https://pbs.twimg.com/profile_images/1180055085801443329/JAUJWMmN_normal.jpg', profile_banner_url='https://pbs.twimg.com/profile_banners/14157134/1619538125', profile_link_color='1F527B', profile_sidebar_border_color='CCCCCC', profile_sidebar_fill_color='FFFFFF', profile_text_color='5A5A5A', profile_use_background_image=False, has_extended_profile=False, default_profile=False, default_profile_image=False, following=False, follow_request_sent=False, notifications=False, translator_type='none', withheld_in_countries=[]), geo=None, coordinates=None, place=None, contributors=None, is_quote_status=False, retweet_count=38, favorite_count=172, favorited=False, retweeted=False, lang='en'), is_quote_status=False, retweet_count=38, favorite_count=0, favorited=False, retweeted=False, lang='en')"
      ],
      "metadata": {
        "id": "p95HaE3i0HUf"
      }
    },
    {
      "cell_type": "markdown",
      "source": [
        "## 6. Save data as csv on drive"
      ],
      "metadata": {
        "id": "n88oHpzsBoV3"
      }
    },
    {
      "cell_type": "code",
      "source": [
        "# save dataset in csv on drive\n",
        "from google.colab import drive\n",
        "drive.mount('/gdrive')"
      ],
      "metadata": {
        "colab": {
          "base_uri": "https://localhost:8080/"
        },
        "id": "p9mVUlH0z0dT",
        "outputId": "893f1a04-6039-438d-ba62-912357709062"
      },
      "execution_count": 31,
      "outputs": [
        {
          "output_type": "stream",
          "name": "stdout",
          "text": [
            "Drive already mounted at /gdrive; to attempt to forcibly remount, call drive.mount(\"/gdrive\", force_remount=True).\n"
          ]
        }
      ]
    },
    {
      "cell_type": "code",
      "source": [
        "path = \"/gdrive/My Drive/YouTube/data/\"\n",
        "df.to_csv(path + 'tweets_by_keywords.csv')"
      ],
      "metadata": {
        "id": "q8DfB0JG8N4v"
      },
      "execution_count": 32,
      "outputs": []
    },
    {
      "cell_type": "code",
      "source": [
        ""
      ],
      "metadata": {
        "id": "YhbvY8AK8Zhm"
      },
      "execution_count": null,
      "outputs": []
    }
  ],
  "metadata": {
    "kernelspec": {
      "display_name": "Python 3",
      "language": "python",
      "name": "python3"
    },
    "language_info": {
      "codemirror_mode": {
        "name": "ipython",
        "version": 3
      },
      "file_extension": ".py",
      "mimetype": "text/x-python",
      "name": "python",
      "nbconvert_exporter": "python",
      "pygments_lexer": "ipython3",
      "version": "3.7.1"
    },
    "colab": {
      "name": "Scrape_translate_tweets.ipynb",
      "provenance": []
    }
  },
  "nbformat": 4,
  "nbformat_minor": 0
}